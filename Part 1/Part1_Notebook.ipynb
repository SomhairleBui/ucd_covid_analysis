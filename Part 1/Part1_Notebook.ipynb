{
 "cells": [
  {
   "cell_type": "code",
   "execution_count": 1,
   "metadata": {
    "scrolled": false
   },
   "outputs": [],
   "source": [
    "import pandas as pd\n",
    "\n",
    "import numpy as np\n",
    "\n",
    "import matplotlib\n",
    "\n",
    "import matplotlib.pyplot as plt\n",
    "\n",
    "import datetime"
   ]
  },
  {
   "cell_type": "code",
   "execution_count": 2,
   "metadata": {
    "scrolled": false
   },
   "outputs": [],
   "source": [
    "#read in data from csv file into dataframe\n",
    "df = pd.read_csv(\"covid19-cdc-20202492.csv\")"
   ]
  },
  {
   "cell_type": "markdown",
   "metadata": {},
   "source": [
    "# Prepare a data quality report for the CSV file"
   ]
  },
  {
   "cell_type": "markdown",
   "metadata": {},
   "source": [
    "## Check how many rows and columns within the file"
   ]
  },
  {
   "cell_type": "code",
   "execution_count": 3,
   "metadata": {
    "scrolled": false
   },
   "outputs": [
    {
     "data": {
      "text/plain": [
       "(10000, 12)"
      ]
     },
     "execution_count": 3,
     "metadata": {},
     "output_type": "execute_result"
    }
   ],
   "source": [
    "df.shape\n",
    "\n"
   ]
  },
  {
   "cell_type": "markdown",
   "metadata": {},
   "source": [
    "Dataset has 10000 entries with 12 features per entry"
   ]
  },
  {
   "cell_type": "markdown",
   "metadata": {},
   "source": [
    "## Print first 10 and last 10 entries"
   ]
  },
  {
   "cell_type": "code",
   "execution_count": 4,
   "metadata": {
    "scrolled": true
   },
   "outputs": [
    {
     "data": {
      "text/html": [
       "<div>\n",
       "<style scoped>\n",
       "    .dataframe tbody tr th:only-of-type {\n",
       "        vertical-align: middle;\n",
       "    }\n",
       "\n",
       "    .dataframe tbody tr th {\n",
       "        vertical-align: top;\n",
       "    }\n",
       "\n",
       "    .dataframe thead th {\n",
       "        text-align: right;\n",
       "    }\n",
       "</style>\n",
       "<table border=\"1\" class=\"dataframe\">\n",
       "  <thead>\n",
       "    <tr style=\"text-align: right;\">\n",
       "      <th></th>\n",
       "      <th>cdc_case_earliest_dt</th>\n",
       "      <th>cdc_report_dt</th>\n",
       "      <th>pos_spec_dt</th>\n",
       "      <th>onset_dt</th>\n",
       "      <th>current_status</th>\n",
       "      <th>sex</th>\n",
       "      <th>age_group</th>\n",
       "      <th>race_ethnicity_combined</th>\n",
       "      <th>hosp_yn</th>\n",
       "      <th>icu_yn</th>\n",
       "      <th>death_yn</th>\n",
       "      <th>medcond_yn</th>\n",
       "    </tr>\n",
       "  </thead>\n",
       "  <tbody>\n",
       "    <tr>\n",
       "      <th>0</th>\n",
       "      <td>2020/06/04</td>\n",
       "      <td>2020/06/04</td>\n",
       "      <td>2020/06/04</td>\n",
       "      <td>NaN</td>\n",
       "      <td>Laboratory-confirmed case</td>\n",
       "      <td>Female</td>\n",
       "      <td>30 - 39 Years</td>\n",
       "      <td>Unknown</td>\n",
       "      <td>Unknown</td>\n",
       "      <td>Unknown</td>\n",
       "      <td>No</td>\n",
       "      <td>No</td>\n",
       "    </tr>\n",
       "    <tr>\n",
       "      <th>1</th>\n",
       "      <td>2020/10/23</td>\n",
       "      <td>2020/10/23</td>\n",
       "      <td>NaN</td>\n",
       "      <td>NaN</td>\n",
       "      <td>Laboratory-confirmed case</td>\n",
       "      <td>Female</td>\n",
       "      <td>10 - 19 Years</td>\n",
       "      <td>Unknown</td>\n",
       "      <td>Missing</td>\n",
       "      <td>Missing</td>\n",
       "      <td>No</td>\n",
       "      <td>Missing</td>\n",
       "    </tr>\n",
       "    <tr>\n",
       "      <th>2</th>\n",
       "      <td>2020/07/22</td>\n",
       "      <td>2020/10/22</td>\n",
       "      <td>NaN</td>\n",
       "      <td>2020/07/22</td>\n",
       "      <td>Laboratory-confirmed case</td>\n",
       "      <td>Female</td>\n",
       "      <td>70 - 79 Years</td>\n",
       "      <td>Unknown</td>\n",
       "      <td>No</td>\n",
       "      <td>Missing</td>\n",
       "      <td>No</td>\n",
       "      <td>Missing</td>\n",
       "    </tr>\n",
       "    <tr>\n",
       "      <th>3</th>\n",
       "      <td>2020/10/29</td>\n",
       "      <td>2020/11/20</td>\n",
       "      <td>NaN</td>\n",
       "      <td>2020/10/29</td>\n",
       "      <td>Laboratory-confirmed case</td>\n",
       "      <td>Male</td>\n",
       "      <td>70 - 79 Years</td>\n",
       "      <td>White, Non-Hispanic</td>\n",
       "      <td>No</td>\n",
       "      <td>Missing</td>\n",
       "      <td>No</td>\n",
       "      <td>Missing</td>\n",
       "    </tr>\n",
       "    <tr>\n",
       "      <th>4</th>\n",
       "      <td>2021/01/01</td>\n",
       "      <td>NaN</td>\n",
       "      <td>NaN</td>\n",
       "      <td>NaN</td>\n",
       "      <td>Laboratory-confirmed case</td>\n",
       "      <td>Male</td>\n",
       "      <td>40 - 49 Years</td>\n",
       "      <td>White, Non-Hispanic</td>\n",
       "      <td>Missing</td>\n",
       "      <td>Missing</td>\n",
       "      <td>No</td>\n",
       "      <td>Missing</td>\n",
       "    </tr>\n",
       "    <tr>\n",
       "      <th>5</th>\n",
       "      <td>2020/12/23</td>\n",
       "      <td>2020/12/23</td>\n",
       "      <td>NaN</td>\n",
       "      <td>NaN</td>\n",
       "      <td>Laboratory-confirmed case</td>\n",
       "      <td>Female</td>\n",
       "      <td>40 - 49 Years</td>\n",
       "      <td>White, Non-Hispanic</td>\n",
       "      <td>Missing</td>\n",
       "      <td>Missing</td>\n",
       "      <td>No</td>\n",
       "      <td>Missing</td>\n",
       "    </tr>\n",
       "    <tr>\n",
       "      <th>6</th>\n",
       "      <td>2021/01/08</td>\n",
       "      <td>2021/01/08</td>\n",
       "      <td>NaN</td>\n",
       "      <td>2021/01/08</td>\n",
       "      <td>Laboratory-confirmed case</td>\n",
       "      <td>Male</td>\n",
       "      <td>30 - 39 Years</td>\n",
       "      <td>Unknown</td>\n",
       "      <td>No</td>\n",
       "      <td>Missing</td>\n",
       "      <td>No</td>\n",
       "      <td>Missing</td>\n",
       "    </tr>\n",
       "    <tr>\n",
       "      <th>7</th>\n",
       "      <td>2021/01/02</td>\n",
       "      <td>2021/01/03</td>\n",
       "      <td>NaN</td>\n",
       "      <td>2021/01/03</td>\n",
       "      <td>Laboratory-confirmed case</td>\n",
       "      <td>Male</td>\n",
       "      <td>60 - 69 Years</td>\n",
       "      <td>White, Non-Hispanic</td>\n",
       "      <td>No</td>\n",
       "      <td>Missing</td>\n",
       "      <td>No</td>\n",
       "      <td>Missing</td>\n",
       "    </tr>\n",
       "    <tr>\n",
       "      <th>8</th>\n",
       "      <td>2020/12/21</td>\n",
       "      <td>2020/12/21</td>\n",
       "      <td>NaN</td>\n",
       "      <td>NaN</td>\n",
       "      <td>Laboratory-confirmed case</td>\n",
       "      <td>Female</td>\n",
       "      <td>10 - 19 Years</td>\n",
       "      <td>White, Non-Hispanic</td>\n",
       "      <td>Unknown</td>\n",
       "      <td>Unknown</td>\n",
       "      <td>No</td>\n",
       "      <td>Missing</td>\n",
       "    </tr>\n",
       "    <tr>\n",
       "      <th>9</th>\n",
       "      <td>2020/12/18</td>\n",
       "      <td>NaN</td>\n",
       "      <td>NaN</td>\n",
       "      <td>NaN</td>\n",
       "      <td>Laboratory-confirmed case</td>\n",
       "      <td>Female</td>\n",
       "      <td>0 - 9 Years</td>\n",
       "      <td>Unknown</td>\n",
       "      <td>No</td>\n",
       "      <td>Missing</td>\n",
       "      <td>No</td>\n",
       "      <td>Missing</td>\n",
       "    </tr>\n",
       "  </tbody>\n",
       "</table>\n",
       "</div>"
      ],
      "text/plain": [
       "  cdc_case_earliest_dt cdc_report_dt pos_spec_dt    onset_dt  \\\n",
       "0           2020/06/04    2020/06/04  2020/06/04         NaN   \n",
       "1           2020/10/23    2020/10/23         NaN         NaN   \n",
       "2           2020/07/22    2020/10/22         NaN  2020/07/22   \n",
       "3           2020/10/29    2020/11/20         NaN  2020/10/29   \n",
       "4           2021/01/01           NaN         NaN         NaN   \n",
       "5           2020/12/23    2020/12/23         NaN         NaN   \n",
       "6           2021/01/08    2021/01/08         NaN  2021/01/08   \n",
       "7           2021/01/02    2021/01/03         NaN  2021/01/03   \n",
       "8           2020/12/21    2020/12/21         NaN         NaN   \n",
       "9           2020/12/18           NaN         NaN         NaN   \n",
       "\n",
       "              current_status     sex      age_group race_ethnicity_combined  \\\n",
       "0  Laboratory-confirmed case  Female  30 - 39 Years                 Unknown   \n",
       "1  Laboratory-confirmed case  Female  10 - 19 Years                 Unknown   \n",
       "2  Laboratory-confirmed case  Female  70 - 79 Years                 Unknown   \n",
       "3  Laboratory-confirmed case    Male  70 - 79 Years     White, Non-Hispanic   \n",
       "4  Laboratory-confirmed case    Male  40 - 49 Years     White, Non-Hispanic   \n",
       "5  Laboratory-confirmed case  Female  40 - 49 Years     White, Non-Hispanic   \n",
       "6  Laboratory-confirmed case    Male  30 - 39 Years                 Unknown   \n",
       "7  Laboratory-confirmed case    Male  60 - 69 Years     White, Non-Hispanic   \n",
       "8  Laboratory-confirmed case  Female  10 - 19 Years     White, Non-Hispanic   \n",
       "9  Laboratory-confirmed case  Female    0 - 9 Years                 Unknown   \n",
       "\n",
       "   hosp_yn   icu_yn death_yn medcond_yn  \n",
       "0  Unknown  Unknown       No         No  \n",
       "1  Missing  Missing       No    Missing  \n",
       "2       No  Missing       No    Missing  \n",
       "3       No  Missing       No    Missing  \n",
       "4  Missing  Missing       No    Missing  \n",
       "5  Missing  Missing       No    Missing  \n",
       "6       No  Missing       No    Missing  \n",
       "7       No  Missing       No    Missing  \n",
       "8  Unknown  Unknown       No    Missing  \n",
       "9       No  Missing       No    Missing  "
      ]
     },
     "execution_count": 4,
     "metadata": {},
     "output_type": "execute_result"
    }
   ],
   "source": [
    "df.head(10)"
   ]
  },
  {
   "cell_type": "code",
   "execution_count": 5,
   "metadata": {
    "scrolled": false
   },
   "outputs": [
    {
     "data": {
      "text/html": [
       "<div>\n",
       "<style scoped>\n",
       "    .dataframe tbody tr th:only-of-type {\n",
       "        vertical-align: middle;\n",
       "    }\n",
       "\n",
       "    .dataframe tbody tr th {\n",
       "        vertical-align: top;\n",
       "    }\n",
       "\n",
       "    .dataframe thead th {\n",
       "        text-align: right;\n",
       "    }\n",
       "</style>\n",
       "<table border=\"1\" class=\"dataframe\">\n",
       "  <thead>\n",
       "    <tr style=\"text-align: right;\">\n",
       "      <th></th>\n",
       "      <th>cdc_case_earliest_dt</th>\n",
       "      <th>cdc_report_dt</th>\n",
       "      <th>pos_spec_dt</th>\n",
       "      <th>onset_dt</th>\n",
       "      <th>current_status</th>\n",
       "      <th>sex</th>\n",
       "      <th>age_group</th>\n",
       "      <th>race_ethnicity_combined</th>\n",
       "      <th>hosp_yn</th>\n",
       "      <th>icu_yn</th>\n",
       "      <th>death_yn</th>\n",
       "      <th>medcond_yn</th>\n",
       "    </tr>\n",
       "  </thead>\n",
       "  <tbody>\n",
       "    <tr>\n",
       "      <th>9990</th>\n",
       "      <td>2020/12/10</td>\n",
       "      <td>NaN</td>\n",
       "      <td>NaN</td>\n",
       "      <td>NaN</td>\n",
       "      <td>Laboratory-confirmed case</td>\n",
       "      <td>Male</td>\n",
       "      <td>50 - 59 Years</td>\n",
       "      <td>Unknown</td>\n",
       "      <td>Unknown</td>\n",
       "      <td>Missing</td>\n",
       "      <td>No</td>\n",
       "      <td>Missing</td>\n",
       "    </tr>\n",
       "    <tr>\n",
       "      <th>9991</th>\n",
       "      <td>2020/09/02</td>\n",
       "      <td>2020/09/02</td>\n",
       "      <td>NaN</td>\n",
       "      <td>NaN</td>\n",
       "      <td>Laboratory-confirmed case</td>\n",
       "      <td>Female</td>\n",
       "      <td>40 - 49 Years</td>\n",
       "      <td>Asian, Non-Hispanic</td>\n",
       "      <td>No</td>\n",
       "      <td>Missing</td>\n",
       "      <td>No</td>\n",
       "      <td>Missing</td>\n",
       "    </tr>\n",
       "    <tr>\n",
       "      <th>9992</th>\n",
       "      <td>2020/11/02</td>\n",
       "      <td>2020/11/10</td>\n",
       "      <td>2020/11/02</td>\n",
       "      <td>2020/11/02</td>\n",
       "      <td>Laboratory-confirmed case</td>\n",
       "      <td>Female</td>\n",
       "      <td>70 - 79 Years</td>\n",
       "      <td>Unknown</td>\n",
       "      <td>No</td>\n",
       "      <td>Missing</td>\n",
       "      <td>No</td>\n",
       "      <td>Yes</td>\n",
       "    </tr>\n",
       "    <tr>\n",
       "      <th>9993</th>\n",
       "      <td>2020/12/02</td>\n",
       "      <td>NaN</td>\n",
       "      <td>NaN</td>\n",
       "      <td>NaN</td>\n",
       "      <td>Laboratory-confirmed case</td>\n",
       "      <td>Male</td>\n",
       "      <td>30 - 39 Years</td>\n",
       "      <td>Unknown</td>\n",
       "      <td>Unknown</td>\n",
       "      <td>Missing</td>\n",
       "      <td>No</td>\n",
       "      <td>Missing</td>\n",
       "    </tr>\n",
       "    <tr>\n",
       "      <th>9994</th>\n",
       "      <td>2020/08/16</td>\n",
       "      <td>2020/08/18</td>\n",
       "      <td>2020/08/16</td>\n",
       "      <td>2020/08/16</td>\n",
       "      <td>Laboratory-confirmed case</td>\n",
       "      <td>Female</td>\n",
       "      <td>20 - 29 Years</td>\n",
       "      <td>White, Non-Hispanic</td>\n",
       "      <td>Missing</td>\n",
       "      <td>Missing</td>\n",
       "      <td>No</td>\n",
       "      <td>No</td>\n",
       "    </tr>\n",
       "    <tr>\n",
       "      <th>9995</th>\n",
       "      <td>2020/12/27</td>\n",
       "      <td>2020/12/27</td>\n",
       "      <td>NaN</td>\n",
       "      <td>2020/12/27</td>\n",
       "      <td>Laboratory-confirmed case</td>\n",
       "      <td>Male</td>\n",
       "      <td>10 - 19 Years</td>\n",
       "      <td>Black, Non-Hispanic</td>\n",
       "      <td>Unknown</td>\n",
       "      <td>Missing</td>\n",
       "      <td>No</td>\n",
       "      <td>Missing</td>\n",
       "    </tr>\n",
       "    <tr>\n",
       "      <th>9996</th>\n",
       "      <td>2020/10/03</td>\n",
       "      <td>2020/10/03</td>\n",
       "      <td>NaN</td>\n",
       "      <td>NaN</td>\n",
       "      <td>Laboratory-confirmed case</td>\n",
       "      <td>Male</td>\n",
       "      <td>20 - 29 Years</td>\n",
       "      <td>White, Non-Hispanic</td>\n",
       "      <td>Unknown</td>\n",
       "      <td>Missing</td>\n",
       "      <td>No</td>\n",
       "      <td>Missing</td>\n",
       "    </tr>\n",
       "    <tr>\n",
       "      <th>9997</th>\n",
       "      <td>2020/12/30</td>\n",
       "      <td>2021/01/03</td>\n",
       "      <td>NaN</td>\n",
       "      <td>2020/12/30</td>\n",
       "      <td>Laboratory-confirmed case</td>\n",
       "      <td>Male</td>\n",
       "      <td>70 - 79 Years</td>\n",
       "      <td>White, Non-Hispanic</td>\n",
       "      <td>No</td>\n",
       "      <td>Missing</td>\n",
       "      <td>No</td>\n",
       "      <td>Missing</td>\n",
       "    </tr>\n",
       "    <tr>\n",
       "      <th>9998</th>\n",
       "      <td>2020/11/09</td>\n",
       "      <td>2020/11/09</td>\n",
       "      <td>NaN</td>\n",
       "      <td>2020/11/09</td>\n",
       "      <td>Laboratory-confirmed case</td>\n",
       "      <td>Female</td>\n",
       "      <td>60 - 69 Years</td>\n",
       "      <td>Unknown</td>\n",
       "      <td>No</td>\n",
       "      <td>Missing</td>\n",
       "      <td>No</td>\n",
       "      <td>Missing</td>\n",
       "    </tr>\n",
       "    <tr>\n",
       "      <th>9999</th>\n",
       "      <td>2020/11/06</td>\n",
       "      <td>2020/11/08</td>\n",
       "      <td>2020/11/06</td>\n",
       "      <td>NaN</td>\n",
       "      <td>Laboratory-confirmed case</td>\n",
       "      <td>Male</td>\n",
       "      <td>20 - 29 Years</td>\n",
       "      <td>White, Non-Hispanic</td>\n",
       "      <td>Missing</td>\n",
       "      <td>Missing</td>\n",
       "      <td>No</td>\n",
       "      <td>Missing</td>\n",
       "    </tr>\n",
       "  </tbody>\n",
       "</table>\n",
       "</div>"
      ],
      "text/plain": [
       "     cdc_case_earliest_dt cdc_report_dt pos_spec_dt    onset_dt  \\\n",
       "9990           2020/12/10           NaN         NaN         NaN   \n",
       "9991           2020/09/02    2020/09/02         NaN         NaN   \n",
       "9992           2020/11/02    2020/11/10  2020/11/02  2020/11/02   \n",
       "9993           2020/12/02           NaN         NaN         NaN   \n",
       "9994           2020/08/16    2020/08/18  2020/08/16  2020/08/16   \n",
       "9995           2020/12/27    2020/12/27         NaN  2020/12/27   \n",
       "9996           2020/10/03    2020/10/03         NaN         NaN   \n",
       "9997           2020/12/30    2021/01/03         NaN  2020/12/30   \n",
       "9998           2020/11/09    2020/11/09         NaN  2020/11/09   \n",
       "9999           2020/11/06    2020/11/08  2020/11/06         NaN   \n",
       "\n",
       "                 current_status     sex      age_group  \\\n",
       "9990  Laboratory-confirmed case    Male  50 - 59 Years   \n",
       "9991  Laboratory-confirmed case  Female  40 - 49 Years   \n",
       "9992  Laboratory-confirmed case  Female  70 - 79 Years   \n",
       "9993  Laboratory-confirmed case    Male  30 - 39 Years   \n",
       "9994  Laboratory-confirmed case  Female  20 - 29 Years   \n",
       "9995  Laboratory-confirmed case    Male  10 - 19 Years   \n",
       "9996  Laboratory-confirmed case    Male  20 - 29 Years   \n",
       "9997  Laboratory-confirmed case    Male  70 - 79 Years   \n",
       "9998  Laboratory-confirmed case  Female  60 - 69 Years   \n",
       "9999  Laboratory-confirmed case    Male  20 - 29 Years   \n",
       "\n",
       "     race_ethnicity_combined  hosp_yn   icu_yn death_yn medcond_yn  \n",
       "9990                 Unknown  Unknown  Missing       No    Missing  \n",
       "9991     Asian, Non-Hispanic       No  Missing       No    Missing  \n",
       "9992                 Unknown       No  Missing       No        Yes  \n",
       "9993                 Unknown  Unknown  Missing       No    Missing  \n",
       "9994     White, Non-Hispanic  Missing  Missing       No         No  \n",
       "9995     Black, Non-Hispanic  Unknown  Missing       No    Missing  \n",
       "9996     White, Non-Hispanic  Unknown  Missing       No    Missing  \n",
       "9997     White, Non-Hispanic       No  Missing       No    Missing  \n",
       "9998                 Unknown       No  Missing       No    Missing  \n",
       "9999     White, Non-Hispanic  Missing  Missing       No    Missing  "
      ]
     },
     "execution_count": 5,
     "metadata": {},
     "output_type": "execute_result"
    }
   ],
   "source": [
    "df.tail(10)"
   ]
  },
  {
   "cell_type": "markdown",
   "metadata": {},
   "source": [
    "## Get the datatypes for each column"
   ]
  },
  {
   "cell_type": "code",
   "execution_count": 6,
   "metadata": {
    "scrolled": false
   },
   "outputs": [
    {
     "data": {
      "text/plain": [
       "cdc_case_earliest_dt       object\n",
       "cdc_report_dt              object\n",
       "pos_spec_dt                object\n",
       "onset_dt                   object\n",
       "current_status             object\n",
       "sex                        object\n",
       "age_group                  object\n",
       "race_ethnicity_combined    object\n",
       "hosp_yn                    object\n",
       "icu_yn                     object\n",
       "death_yn                   object\n",
       "medcond_yn                 object\n",
       "dtype: object"
      ]
     },
     "execution_count": 6,
     "metadata": {},
     "output_type": "execute_result"
    }
   ],
   "source": [
    "df.dtypes"
   ]
  },
  {
   "cell_type": "markdown",
   "metadata": {},
   "source": [
    "## Get count, unique entries, top and freq for features"
   ]
  },
  {
   "cell_type": "code",
   "execution_count": 7,
   "metadata": {
    "scrolled": false
   },
   "outputs": [
    {
     "data": {
      "text/html": [
       "<div>\n",
       "<style scoped>\n",
       "    .dataframe tbody tr th:only-of-type {\n",
       "        vertical-align: middle;\n",
       "    }\n",
       "\n",
       "    .dataframe tbody tr th {\n",
       "        vertical-align: top;\n",
       "    }\n",
       "\n",
       "    .dataframe thead th {\n",
       "        text-align: right;\n",
       "    }\n",
       "</style>\n",
       "<table border=\"1\" class=\"dataframe\">\n",
       "  <thead>\n",
       "    <tr style=\"text-align: right;\">\n",
       "      <th></th>\n",
       "      <th>count</th>\n",
       "      <th>unique</th>\n",
       "      <th>top</th>\n",
       "      <th>freq</th>\n",
       "    </tr>\n",
       "  </thead>\n",
       "  <tbody>\n",
       "    <tr>\n",
       "      <th>cdc_case_earliest_dt</th>\n",
       "      <td>10000</td>\n",
       "      <td>323</td>\n",
       "      <td>2021/01/04</td>\n",
       "      <td>129</td>\n",
       "    </tr>\n",
       "    <tr>\n",
       "      <th>cdc_report_dt</th>\n",
       "      <td>7648</td>\n",
       "      <td>324</td>\n",
       "      <td>2020/06/10</td>\n",
       "      <td>144</td>\n",
       "    </tr>\n",
       "    <tr>\n",
       "      <th>pos_spec_dt</th>\n",
       "      <td>2789</td>\n",
       "      <td>314</td>\n",
       "      <td>2021/01/04</td>\n",
       "      <td>34</td>\n",
       "    </tr>\n",
       "    <tr>\n",
       "      <th>onset_dt</th>\n",
       "      <td>5059</td>\n",
       "      <td>325</td>\n",
       "      <td>2020/12/08</td>\n",
       "      <td>47</td>\n",
       "    </tr>\n",
       "    <tr>\n",
       "      <th>current_status</th>\n",
       "      <td>10000</td>\n",
       "      <td>2</td>\n",
       "      <td>Laboratory-confirmed case</td>\n",
       "      <td>9349</td>\n",
       "    </tr>\n",
       "    <tr>\n",
       "      <th>sex</th>\n",
       "      <td>10000</td>\n",
       "      <td>4</td>\n",
       "      <td>Female</td>\n",
       "      <td>5109</td>\n",
       "    </tr>\n",
       "    <tr>\n",
       "      <th>age_group</th>\n",
       "      <td>10000</td>\n",
       "      <td>10</td>\n",
       "      <td>20 - 29 Years</td>\n",
       "      <td>1949</td>\n",
       "    </tr>\n",
       "    <tr>\n",
       "      <th>race_ethnicity_combined</th>\n",
       "      <td>10000</td>\n",
       "      <td>9</td>\n",
       "      <td>Unknown</td>\n",
       "      <td>4050</td>\n",
       "    </tr>\n",
       "    <tr>\n",
       "      <th>hosp_yn</th>\n",
       "      <td>10000</td>\n",
       "      <td>4</td>\n",
       "      <td>No</td>\n",
       "      <td>5152</td>\n",
       "    </tr>\n",
       "    <tr>\n",
       "      <th>icu_yn</th>\n",
       "      <td>10000</td>\n",
       "      <td>4</td>\n",
       "      <td>Missing</td>\n",
       "      <td>7710</td>\n",
       "    </tr>\n",
       "    <tr>\n",
       "      <th>death_yn</th>\n",
       "      <td>10000</td>\n",
       "      <td>2</td>\n",
       "      <td>No</td>\n",
       "      <td>9651</td>\n",
       "    </tr>\n",
       "    <tr>\n",
       "      <th>medcond_yn</th>\n",
       "      <td>10000</td>\n",
       "      <td>4</td>\n",
       "      <td>Missing</td>\n",
       "      <td>7554</td>\n",
       "    </tr>\n",
       "  </tbody>\n",
       "</table>\n",
       "</div>"
      ],
      "text/plain": [
       "                         count unique                        top  freq\n",
       "cdc_case_earliest_dt     10000    323                 2021/01/04   129\n",
       "cdc_report_dt             7648    324                 2020/06/10   144\n",
       "pos_spec_dt               2789    314                 2021/01/04    34\n",
       "onset_dt                  5059    325                 2020/12/08    47\n",
       "current_status           10000      2  Laboratory-confirmed case  9349\n",
       "sex                      10000      4                     Female  5109\n",
       "age_group                10000     10              20 - 29 Years  1949\n",
       "race_ethnicity_combined  10000      9                    Unknown  4050\n",
       "hosp_yn                  10000      4                         No  5152\n",
       "icu_yn                   10000      4                    Missing  7710\n",
       "death_yn                 10000      2                         No  9651\n",
       "medcond_yn               10000      4                    Missing  7554"
      ]
     },
     "execution_count": 7,
     "metadata": {},
     "output_type": "execute_result"
    }
   ],
   "source": [
    "df.describe().T"
   ]
  },
  {
   "cell_type": "markdown",
   "metadata": {},
   "source": [
    "## Get the unique entries for each feature (except dates would be too long)"
   ]
  },
  {
   "cell_type": "code",
   "execution_count": 8,
   "metadata": {
    "scrolled": true
   },
   "outputs": [
    {
     "name": "stdout",
     "output_type": "stream",
     "text": [
      "current_status unique values: ['Laboratory-confirmed case' 'Probable Case']\n",
      "sex unique values: ['Female' 'Male' 'Unknown' 'Missing']\n",
      "age_group unique values: ['30 - 39 Years' '10 - 19 Years' '70 - 79 Years' '40 - 49 Years'\n",
      " '60 - 69 Years' '0 - 9 Years' '80+ Years' '50 - 59 Years' '20 - 29 Years'\n",
      " 'Missing']\n",
      "race_ethnicity_combined unique values: ['Unknown' 'White, Non-Hispanic' 'Hispanic/Latino'\n",
      " 'Multiple/Other, Non-Hispanic' 'Black, Non-Hispanic'\n",
      " 'Asian, Non-Hispanic' 'Missing'\n",
      " 'American Indian/Alaska Native, Non-Hispanic'\n",
      " 'Native Hawaiian/Other Pacific Islander, Non-Hispanic']\n",
      "hosp_yn unique values: ['Unknown' 'Missing' 'No' 'Yes']\n",
      "icu_yn unique values: ['Unknown' 'Missing' 'No' 'Yes']\n",
      "death_yn unique values: ['No' 'Yes']\n",
      "medcond_yn unique values: ['No' 'Missing' 'Unknown' 'Yes']\n"
     ]
    }
   ],
   "source": [
    "obbys = df.select_dtypes(['object']).columns\n",
    "\n",
    "for i in obbys[4:]:\n",
    "    print(i,\"unique values:\",df[i].unique())\n",
    "\n"
   ]
  },
  {
   "cell_type": "markdown",
   "metadata": {
    "scrolled": false
   },
   "source": [
    "## Get the count for each entry in the categorical datatype (excluding dates)"
   ]
  },
  {
   "cell_type": "code",
   "execution_count": 9,
   "metadata": {
    "scrolled": false
   },
   "outputs": [
    {
     "name": "stdout",
     "output_type": "stream",
     "text": [
      "---------------------------\n",
      "current_status\n",
      "---------------------------\n",
      "Laboratory-confirmed case    9349\n",
      "Probable Case                 651\n",
      "Name: current_status, dtype: int64\n",
      "---------------------------\n",
      "sex\n",
      "---------------------------\n",
      "Female     5109\n",
      "Male       4805\n",
      "Unknown      80\n",
      "Missing       6\n",
      "Name: sex, dtype: int64\n",
      "---------------------------\n",
      "age_group\n",
      "---------------------------\n",
      "20 - 29 Years    1949\n",
      "30 - 39 Years    1612\n",
      "50 - 59 Years    1463\n",
      "40 - 49 Years    1400\n",
      "60 - 69 Years    1048\n",
      "10 - 19 Years    1030\n",
      "70 - 79 Years     591\n",
      "0 - 9 Years       455\n",
      "80+ Years         440\n",
      "Missing            12\n",
      "Name: age_group, dtype: int64\n",
      "---------------------------\n",
      "race_ethnicity_combined\n",
      "---------------------------\n",
      "Unknown                                                 4050\n",
      "White, Non-Hispanic                                     3230\n",
      "Hispanic/Latino                                          995\n",
      "Black, Non-Hispanic                                      749\n",
      "Multiple/Other, Non-Hispanic                             532\n",
      "Asian, Non-Hispanic                                      260\n",
      "Missing                                                   92\n",
      "American Indian/Alaska Native, Non-Hispanic               67\n",
      "Native Hawaiian/Other Pacific Islander, Non-Hispanic      25\n",
      "Name: race_ethnicity_combined, dtype: int64\n",
      "---------------------------\n",
      "hosp_yn\n",
      "---------------------------\n",
      "No         5152\n",
      "Missing    2405\n",
      "Unknown    1780\n",
      "Yes         663\n",
      "Name: hosp_yn, dtype: int64\n",
      "---------------------------\n",
      "icu_yn\n",
      "---------------------------\n",
      "Missing    7710\n",
      "Unknown    1220\n",
      "No          987\n",
      "Yes          83\n",
      "Name: icu_yn, dtype: int64\n",
      "---------------------------\n",
      "death_yn\n",
      "---------------------------\n",
      "No     9651\n",
      "Yes     349\n",
      "Name: death_yn, dtype: int64\n",
      "---------------------------\n",
      "medcond_yn\n",
      "---------------------------\n",
      "Missing    7554\n",
      "No          882\n",
      "Yes         842\n",
      "Unknown     722\n",
      "Name: medcond_yn, dtype: int64\n"
     ]
    }
   ],
   "source": [
    "# get a count for the unique values in the non-date columns\n",
    "for i in obbys[4:]:\n",
    "    print(\"---------------------------\")\n",
    "    print(i)\n",
    "    print(\"---------------------------\")\n",
    "    print(df[i].value_counts())"
   ]
  },
  {
   "cell_type": "markdown",
   "metadata": {},
   "source": [
    "## get the sum of null entries for each datatype (excluding dates)"
   ]
  },
  {
   "cell_type": "code",
   "execution_count": 10,
   "metadata": {
    "scrolled": false
   },
   "outputs": [
    {
     "data": {
      "text/plain": [
       "cdc_case_earliest_dt          0\n",
       "cdc_report_dt              2352\n",
       "pos_spec_dt                7211\n",
       "onset_dt                   4941\n",
       "current_status                0\n",
       "sex                           0\n",
       "age_group                     0\n",
       "race_ethnicity_combined       0\n",
       "hosp_yn                       0\n",
       "icu_yn                        0\n",
       "death_yn                      0\n",
       "medcond_yn                    0\n",
       "dtype: int64"
      ]
     },
     "execution_count": 10,
     "metadata": {},
     "output_type": "execute_result"
    }
   ],
   "source": [
    "df[obbys].isnull().sum()"
   ]
  },
  {
   "cell_type": "markdown",
   "metadata": {},
   "source": [
    "Null for the values reported is not necessarily poor data as pos_spec_dt is date of first positive specimen collection and onset_dt is the date of symptom onset. The absence of data indicates no positive specimen was collected or symptoms manifested"
   ]
  },
  {
   "cell_type": "markdown",
   "metadata": {},
   "source": [
    "## Convert the dates to datetime"
   ]
  },
  {
   "cell_type": "code",
   "execution_count": 11,
   "metadata": {
    "scrolled": false
   },
   "outputs": [],
   "source": [
    "df[\"cdc_case_earliest_dt\"]=pd.to_datetime(df[\"cdc_case_earliest_dt\"],format='%Y/%m/%d')\n",
    "df[\"cdc_report_dt\"]= pd.to_datetime(df[\"cdc_report_dt\"],format='%Y/%m/%d')\n",
    "df[\"pos_spec_dt\"]= pd.to_datetime(df[\"pos_spec_dt\"],format='%Y/%m/%d')\n",
    "df[\"onset_dt\"]= pd.to_datetime(df[\"onset_dt\"],format='%Y/%m/%d')"
   ]
  },
  {
   "cell_type": "markdown",
   "metadata": {},
   "source": [
    "Check that the conversion was successful"
   ]
  },
  {
   "cell_type": "code",
   "execution_count": 12,
   "metadata": {
    "scrolled": true
   },
   "outputs": [
    {
     "data": {
      "text/plain": [
       "cdc_case_earliest_dt       datetime64[ns]\n",
       "cdc_report_dt              datetime64[ns]\n",
       "pos_spec_dt                datetime64[ns]\n",
       "onset_dt                   datetime64[ns]\n",
       "current_status                     object\n",
       "sex                                object\n",
       "age_group                          object\n",
       "race_ethnicity_combined            object\n",
       "hosp_yn                            object\n",
       "icu_yn                             object\n",
       "death_yn                           object\n",
       "medcond_yn                         object\n",
       "dtype: object"
      ]
     },
     "execution_count": 12,
     "metadata": {},
     "output_type": "execute_result"
    }
   ],
   "source": [
    "df.dtypes"
   ]
  },
  {
   "cell_type": "markdown",
   "metadata": {},
   "source": [
    "## Get descriptive stats for (now) datetime features"
   ]
  },
  {
   "cell_type": "code",
   "execution_count": 13,
   "metadata": {
    "scrolled": false
   },
   "outputs": [
    {
     "data": {
      "text/html": [
       "<div>\n",
       "<style scoped>\n",
       "    .dataframe tbody tr th:only-of-type {\n",
       "        vertical-align: middle;\n",
       "    }\n",
       "\n",
       "    .dataframe tbody tr th {\n",
       "        vertical-align: top;\n",
       "    }\n",
       "\n",
       "    .dataframe thead th {\n",
       "        text-align: right;\n",
       "    }\n",
       "</style>\n",
       "<table border=\"1\" class=\"dataframe\">\n",
       "  <thead>\n",
       "    <tr style=\"text-align: right;\">\n",
       "      <th></th>\n",
       "      <th>count</th>\n",
       "      <th>unique</th>\n",
       "      <th>top</th>\n",
       "      <th>freq</th>\n",
       "      <th>first</th>\n",
       "      <th>last</th>\n",
       "    </tr>\n",
       "  </thead>\n",
       "  <tbody>\n",
       "    <tr>\n",
       "      <th>cdc_case_earliest_dt</th>\n",
       "      <td>10000</td>\n",
       "      <td>323</td>\n",
       "      <td>2021-01-04</td>\n",
       "      <td>129</td>\n",
       "      <td>2020-01-01</td>\n",
       "      <td>2021-01-16</td>\n",
       "    </tr>\n",
       "    <tr>\n",
       "      <th>cdc_report_dt</th>\n",
       "      <td>7648</td>\n",
       "      <td>324</td>\n",
       "      <td>2020-06-10</td>\n",
       "      <td>144</td>\n",
       "      <td>2020-03-08</td>\n",
       "      <td>2021-01-29</td>\n",
       "    </tr>\n",
       "    <tr>\n",
       "      <th>pos_spec_dt</th>\n",
       "      <td>2789</td>\n",
       "      <td>314</td>\n",
       "      <td>2021-01-04</td>\n",
       "      <td>34</td>\n",
       "      <td>2020-03-14</td>\n",
       "      <td>2021-01-23</td>\n",
       "    </tr>\n",
       "    <tr>\n",
       "      <th>onset_dt</th>\n",
       "      <td>5059</td>\n",
       "      <td>325</td>\n",
       "      <td>2020-12-08</td>\n",
       "      <td>47</td>\n",
       "      <td>2020-01-01</td>\n",
       "      <td>2021-01-28</td>\n",
       "    </tr>\n",
       "  </tbody>\n",
       "</table>\n",
       "</div>"
      ],
      "text/plain": [
       "                      count unique        top freq      first       last\n",
       "cdc_case_earliest_dt  10000    323 2021-01-04  129 2020-01-01 2021-01-16\n",
       "cdc_report_dt          7648    324 2020-06-10  144 2020-03-08 2021-01-29\n",
       "pos_spec_dt            2789    314 2021-01-04   34 2020-03-14 2021-01-23\n",
       "onset_dt               5059    325 2020-12-08   47 2020-01-01 2021-01-28"
      ]
     },
     "execution_count": 13,
     "metadata": {},
     "output_type": "execute_result"
    }
   ],
   "source": [
    "df.select_dtypes(include=['datetime64[ns]']).describe().T"
   ]
  },
  {
   "cell_type": "markdown",
   "metadata": {},
   "source": [
    "## Convert features to appropriate data types"
   ]
  },
  {
   "cell_type": "code",
   "execution_count": 14,
   "metadata": {
    "scrolled": true
   },
   "outputs": [],
   "source": [
    "continuous_columns = df.select_dtypes([\"datetime64[ns]\"]).columns"
   ]
  },
  {
   "cell_type": "code",
   "execution_count": 15,
   "metadata": {
    "scrolled": false
   },
   "outputs": [],
   "source": [
    "categorical_columns = df.select_dtypes(['object']).columns\n",
    "for i in categorical_columns:\n",
    "    df[i] = df[i].astype(\"category\")"
   ]
  },
  {
   "cell_type": "code",
   "execution_count": 16,
   "metadata": {},
   "outputs": [
    {
     "data": {
      "text/plain": [
       "cdc_case_earliest_dt       datetime64[ns]\n",
       "cdc_report_dt              datetime64[ns]\n",
       "pos_spec_dt                datetime64[ns]\n",
       "onset_dt                   datetime64[ns]\n",
       "current_status                   category\n",
       "sex                              category\n",
       "age_group                        category\n",
       "race_ethnicity_combined          category\n",
       "hosp_yn                          category\n",
       "icu_yn                           category\n",
       "death_yn                         category\n",
       "medcond_yn                       category\n",
       "dtype: object"
      ]
     },
     "execution_count": 16,
     "metadata": {},
     "output_type": "execute_result"
    }
   ],
   "source": [
    "df.dtypes"
   ]
  },
  {
   "cell_type": "markdown",
   "metadata": {},
   "source": [
    "## check for duplicate rows/columns"
   ]
  },
  {
   "cell_type": "code",
   "execution_count": 17,
   "metadata": {
    "scrolled": false
   },
   "outputs": [
    {
     "name": "stdout",
     "output_type": "stream",
     "text": [
      "Number of duplicate rows (not including first) in the dataset is:  465\n"
     ]
    }
   ],
   "source": [
    "print('Number of duplicate rows (not including first) in the dataset is: ', df.duplicated().sum())\n"
   ]
  },
  {
   "cell_type": "code",
   "execution_count": 18,
   "metadata": {
    "scrolled": false
   },
   "outputs": [
    {
     "name": "stdout",
     "output_type": "stream",
     "text": [
      "Number of duplicate rows (including first) in the dataset is: 841\n"
     ]
    }
   ],
   "source": [
    "print('Number of duplicate rows (including first) in the dataset is:', df[df.duplicated(keep=False)].shape[0])"
   ]
  },
  {
   "cell_type": "code",
   "execution_count": 19,
   "metadata": {
    "scrolled": true
   },
   "outputs": [
    {
     "name": "stdout",
     "output_type": "stream",
     "text": [
      "Number of duplicate columns (not including first) in the dataset is:  0\n",
      "Number of duplicate columns (including first) in the dataset is:  0\n"
     ]
    }
   ],
   "source": [
    "dfT = df.T\n",
    "print(\"Number of duplicate columns (not including first) in the dataset is: \", dfT.duplicated().sum())\n",
    "print(\"Number of duplicate columns (including first) in the dataset is: \",  dfT[dfT.duplicated(keep=False)].shape[0])"
   ]
  },
  {
   "cell_type": "markdown",
   "metadata": {},
   "source": [
    "### Show duplicated rows, (To get an idea of where/why the duplication is occuring)"
   ]
  },
  {
   "cell_type": "code",
   "execution_count": 20,
   "metadata": {
    "scrolled": false
   },
   "outputs": [
    {
     "data": {
      "text/html": [
       "<div>\n",
       "<style scoped>\n",
       "    .dataframe tbody tr th:only-of-type {\n",
       "        vertical-align: middle;\n",
       "    }\n",
       "\n",
       "    .dataframe tbody tr th {\n",
       "        vertical-align: top;\n",
       "    }\n",
       "\n",
       "    .dataframe thead th {\n",
       "        text-align: right;\n",
       "    }\n",
       "</style>\n",
       "<table border=\"1\" class=\"dataframe\">\n",
       "  <thead>\n",
       "    <tr style=\"text-align: right;\">\n",
       "      <th></th>\n",
       "      <th>cdc_case_earliest_dt</th>\n",
       "      <th>cdc_report_dt</th>\n",
       "      <th>pos_spec_dt</th>\n",
       "      <th>onset_dt</th>\n",
       "      <th>current_status</th>\n",
       "      <th>sex</th>\n",
       "      <th>age_group</th>\n",
       "      <th>race_ethnicity_combined</th>\n",
       "      <th>hosp_yn</th>\n",
       "      <th>icu_yn</th>\n",
       "      <th>death_yn</th>\n",
       "      <th>medcond_yn</th>\n",
       "    </tr>\n",
       "  </thead>\n",
       "  <tbody>\n",
       "    <tr>\n",
       "      <th>40</th>\n",
       "      <td>2020-12-10</td>\n",
       "      <td>NaT</td>\n",
       "      <td>NaT</td>\n",
       "      <td>NaT</td>\n",
       "      <td>Laboratory-confirmed case</td>\n",
       "      <td>Male</td>\n",
       "      <td>40 - 49 Years</td>\n",
       "      <td>Unknown</td>\n",
       "      <td>Unknown</td>\n",
       "      <td>Missing</td>\n",
       "      <td>No</td>\n",
       "      <td>Missing</td>\n",
       "    </tr>\n",
       "    <tr>\n",
       "      <th>65</th>\n",
       "      <td>2020-12-21</td>\n",
       "      <td>NaT</td>\n",
       "      <td>NaT</td>\n",
       "      <td>NaT</td>\n",
       "      <td>Laboratory-confirmed case</td>\n",
       "      <td>Female</td>\n",
       "      <td>30 - 39 Years</td>\n",
       "      <td>Unknown</td>\n",
       "      <td>Missing</td>\n",
       "      <td>Missing</td>\n",
       "      <td>No</td>\n",
       "      <td>Missing</td>\n",
       "    </tr>\n",
       "    <tr>\n",
       "      <th>89</th>\n",
       "      <td>2020-12-30</td>\n",
       "      <td>NaT</td>\n",
       "      <td>NaT</td>\n",
       "      <td>NaT</td>\n",
       "      <td>Laboratory-confirmed case</td>\n",
       "      <td>Male</td>\n",
       "      <td>20 - 29 Years</td>\n",
       "      <td>Unknown</td>\n",
       "      <td>Missing</td>\n",
       "      <td>Missing</td>\n",
       "      <td>No</td>\n",
       "      <td>Missing</td>\n",
       "    </tr>\n",
       "    <tr>\n",
       "      <th>98</th>\n",
       "      <td>2021-01-06</td>\n",
       "      <td>NaT</td>\n",
       "      <td>NaT</td>\n",
       "      <td>NaT</td>\n",
       "      <td>Laboratory-confirmed case</td>\n",
       "      <td>Female</td>\n",
       "      <td>30 - 39 Years</td>\n",
       "      <td>Unknown</td>\n",
       "      <td>Unknown</td>\n",
       "      <td>Missing</td>\n",
       "      <td>No</td>\n",
       "      <td>Missing</td>\n",
       "    </tr>\n",
       "    <tr>\n",
       "      <th>100</th>\n",
       "      <td>2020-12-28</td>\n",
       "      <td>NaT</td>\n",
       "      <td>NaT</td>\n",
       "      <td>NaT</td>\n",
       "      <td>Laboratory-confirmed case</td>\n",
       "      <td>Male</td>\n",
       "      <td>50 - 59 Years</td>\n",
       "      <td>Unknown</td>\n",
       "      <td>Missing</td>\n",
       "      <td>Missing</td>\n",
       "      <td>No</td>\n",
       "      <td>Missing</td>\n",
       "    </tr>\n",
       "    <tr>\n",
       "      <th>...</th>\n",
       "      <td>...</td>\n",
       "      <td>...</td>\n",
       "      <td>...</td>\n",
       "      <td>...</td>\n",
       "      <td>...</td>\n",
       "      <td>...</td>\n",
       "      <td>...</td>\n",
       "      <td>...</td>\n",
       "      <td>...</td>\n",
       "      <td>...</td>\n",
       "      <td>...</td>\n",
       "      <td>...</td>\n",
       "    </tr>\n",
       "    <tr>\n",
       "      <th>9907</th>\n",
       "      <td>2021-01-14</td>\n",
       "      <td>NaT</td>\n",
       "      <td>NaT</td>\n",
       "      <td>NaT</td>\n",
       "      <td>Laboratory-confirmed case</td>\n",
       "      <td>Male</td>\n",
       "      <td>50 - 59 Years</td>\n",
       "      <td>Unknown</td>\n",
       "      <td>Unknown</td>\n",
       "      <td>Missing</td>\n",
       "      <td>No</td>\n",
       "      <td>Missing</td>\n",
       "    </tr>\n",
       "    <tr>\n",
       "      <th>9930</th>\n",
       "      <td>2020-06-22</td>\n",
       "      <td>NaT</td>\n",
       "      <td>NaT</td>\n",
       "      <td>NaT</td>\n",
       "      <td>Laboratory-confirmed case</td>\n",
       "      <td>Male</td>\n",
       "      <td>20 - 29 Years</td>\n",
       "      <td>Unknown</td>\n",
       "      <td>Unknown</td>\n",
       "      <td>Missing</td>\n",
       "      <td>No</td>\n",
       "      <td>Missing</td>\n",
       "    </tr>\n",
       "    <tr>\n",
       "      <th>9961</th>\n",
       "      <td>2020-12-28</td>\n",
       "      <td>NaT</td>\n",
       "      <td>NaT</td>\n",
       "      <td>NaT</td>\n",
       "      <td>Laboratory-confirmed case</td>\n",
       "      <td>Female</td>\n",
       "      <td>50 - 59 Years</td>\n",
       "      <td>Unknown</td>\n",
       "      <td>Unknown</td>\n",
       "      <td>Missing</td>\n",
       "      <td>No</td>\n",
       "      <td>Missing</td>\n",
       "    </tr>\n",
       "    <tr>\n",
       "      <th>9990</th>\n",
       "      <td>2020-12-10</td>\n",
       "      <td>NaT</td>\n",
       "      <td>NaT</td>\n",
       "      <td>NaT</td>\n",
       "      <td>Laboratory-confirmed case</td>\n",
       "      <td>Male</td>\n",
       "      <td>50 - 59 Years</td>\n",
       "      <td>Unknown</td>\n",
       "      <td>Unknown</td>\n",
       "      <td>Missing</td>\n",
       "      <td>No</td>\n",
       "      <td>Missing</td>\n",
       "    </tr>\n",
       "    <tr>\n",
       "      <th>9993</th>\n",
       "      <td>2020-12-02</td>\n",
       "      <td>NaT</td>\n",
       "      <td>NaT</td>\n",
       "      <td>NaT</td>\n",
       "      <td>Laboratory-confirmed case</td>\n",
       "      <td>Male</td>\n",
       "      <td>30 - 39 Years</td>\n",
       "      <td>Unknown</td>\n",
       "      <td>Unknown</td>\n",
       "      <td>Missing</td>\n",
       "      <td>No</td>\n",
       "      <td>Missing</td>\n",
       "    </tr>\n",
       "  </tbody>\n",
       "</table>\n",
       "<p>841 rows × 12 columns</p>\n",
       "</div>"
      ],
      "text/plain": [
       "     cdc_case_earliest_dt cdc_report_dt pos_spec_dt onset_dt  \\\n",
       "40             2020-12-10           NaT         NaT      NaT   \n",
       "65             2020-12-21           NaT         NaT      NaT   \n",
       "89             2020-12-30           NaT         NaT      NaT   \n",
       "98             2021-01-06           NaT         NaT      NaT   \n",
       "100            2020-12-28           NaT         NaT      NaT   \n",
       "...                   ...           ...         ...      ...   \n",
       "9907           2021-01-14           NaT         NaT      NaT   \n",
       "9930           2020-06-22           NaT         NaT      NaT   \n",
       "9961           2020-12-28           NaT         NaT      NaT   \n",
       "9990           2020-12-10           NaT         NaT      NaT   \n",
       "9993           2020-12-02           NaT         NaT      NaT   \n",
       "\n",
       "                 current_status     sex      age_group  \\\n",
       "40    Laboratory-confirmed case    Male  40 - 49 Years   \n",
       "65    Laboratory-confirmed case  Female  30 - 39 Years   \n",
       "89    Laboratory-confirmed case    Male  20 - 29 Years   \n",
       "98    Laboratory-confirmed case  Female  30 - 39 Years   \n",
       "100   Laboratory-confirmed case    Male  50 - 59 Years   \n",
       "...                         ...     ...            ...   \n",
       "9907  Laboratory-confirmed case    Male  50 - 59 Years   \n",
       "9930  Laboratory-confirmed case    Male  20 - 29 Years   \n",
       "9961  Laboratory-confirmed case  Female  50 - 59 Years   \n",
       "9990  Laboratory-confirmed case    Male  50 - 59 Years   \n",
       "9993  Laboratory-confirmed case    Male  30 - 39 Years   \n",
       "\n",
       "     race_ethnicity_combined  hosp_yn   icu_yn death_yn medcond_yn  \n",
       "40                   Unknown  Unknown  Missing       No    Missing  \n",
       "65                   Unknown  Missing  Missing       No    Missing  \n",
       "89                   Unknown  Missing  Missing       No    Missing  \n",
       "98                   Unknown  Unknown  Missing       No    Missing  \n",
       "100                  Unknown  Missing  Missing       No    Missing  \n",
       "...                      ...      ...      ...      ...        ...  \n",
       "9907                 Unknown  Unknown  Missing       No    Missing  \n",
       "9930                 Unknown  Unknown  Missing       No    Missing  \n",
       "9961                 Unknown  Unknown  Missing       No    Missing  \n",
       "9990                 Unknown  Unknown  Missing       No    Missing  \n",
       "9993                 Unknown  Unknown  Missing       No    Missing  \n",
       "\n",
       "[841 rows x 12 columns]"
      ]
     },
     "execution_count": 20,
     "metadata": {},
     "output_type": "execute_result"
    }
   ],
   "source": [
    "df[df.duplicated(keep=False)]"
   ]
  },
  {
   "cell_type": "code",
   "execution_count": 21,
   "metadata": {
    "scrolled": true
   },
   "outputs": [
    {
     "data": {
      "text/html": [
       "<div>\n",
       "<style scoped>\n",
       "    .dataframe tbody tr th:only-of-type {\n",
       "        vertical-align: middle;\n",
       "    }\n",
       "\n",
       "    .dataframe tbody tr th {\n",
       "        vertical-align: top;\n",
       "    }\n",
       "\n",
       "    .dataframe thead th {\n",
       "        text-align: right;\n",
       "    }\n",
       "</style>\n",
       "<table border=\"1\" class=\"dataframe\">\n",
       "  <thead>\n",
       "    <tr style=\"text-align: right;\">\n",
       "      <th></th>\n",
       "      <th>cdc_case_earliest_dt</th>\n",
       "      <th>cdc_report_dt</th>\n",
       "      <th>pos_spec_dt</th>\n",
       "      <th>onset_dt</th>\n",
       "      <th>current_status</th>\n",
       "      <th>sex</th>\n",
       "      <th>age_group</th>\n",
       "      <th>race_ethnicity_combined</th>\n",
       "      <th>hosp_yn</th>\n",
       "      <th>icu_yn</th>\n",
       "      <th>death_yn</th>\n",
       "      <th>medcond_yn</th>\n",
       "    </tr>\n",
       "  </thead>\n",
       "  <tbody>\n",
       "    <tr>\n",
       "      <th>9857</th>\n",
       "      <td>2021-01-14</td>\n",
       "      <td>NaT</td>\n",
       "      <td>NaT</td>\n",
       "      <td>NaT</td>\n",
       "      <td>Laboratory-confirmed case</td>\n",
       "      <td>Female</td>\n",
       "      <td>20 - 29 Years</td>\n",
       "      <td>Unknown</td>\n",
       "      <td>Missing</td>\n",
       "      <td>Missing</td>\n",
       "      <td>No</td>\n",
       "      <td>Missing</td>\n",
       "    </tr>\n",
       "    <tr>\n",
       "      <th>9884</th>\n",
       "      <td>2020-12-08</td>\n",
       "      <td>NaT</td>\n",
       "      <td>NaT</td>\n",
       "      <td>NaT</td>\n",
       "      <td>Laboratory-confirmed case</td>\n",
       "      <td>Male</td>\n",
       "      <td>30 - 39 Years</td>\n",
       "      <td>Unknown</td>\n",
       "      <td>Missing</td>\n",
       "      <td>Missing</td>\n",
       "      <td>No</td>\n",
       "      <td>Missing</td>\n",
       "    </tr>\n",
       "    <tr>\n",
       "      <th>9889</th>\n",
       "      <td>2021-01-04</td>\n",
       "      <td>NaT</td>\n",
       "      <td>NaT</td>\n",
       "      <td>NaT</td>\n",
       "      <td>Laboratory-confirmed case</td>\n",
       "      <td>Male</td>\n",
       "      <td>20 - 29 Years</td>\n",
       "      <td>White, Non-Hispanic</td>\n",
       "      <td>Missing</td>\n",
       "      <td>Missing</td>\n",
       "      <td>No</td>\n",
       "      <td>Missing</td>\n",
       "    </tr>\n",
       "    <tr>\n",
       "      <th>9900</th>\n",
       "      <td>2020-12-29</td>\n",
       "      <td>NaT</td>\n",
       "      <td>NaT</td>\n",
       "      <td>NaT</td>\n",
       "      <td>Laboratory-confirmed case</td>\n",
       "      <td>Male</td>\n",
       "      <td>30 - 39 Years</td>\n",
       "      <td>Unknown</td>\n",
       "      <td>Missing</td>\n",
       "      <td>Missing</td>\n",
       "      <td>No</td>\n",
       "      <td>Missing</td>\n",
       "    </tr>\n",
       "    <tr>\n",
       "      <th>9904</th>\n",
       "      <td>2020-11-17</td>\n",
       "      <td>NaT</td>\n",
       "      <td>NaT</td>\n",
       "      <td>NaT</td>\n",
       "      <td>Laboratory-confirmed case</td>\n",
       "      <td>Female</td>\n",
       "      <td>10 - 19 Years</td>\n",
       "      <td>Unknown</td>\n",
       "      <td>Missing</td>\n",
       "      <td>Missing</td>\n",
       "      <td>No</td>\n",
       "      <td>Missing</td>\n",
       "    </tr>\n",
       "    <tr>\n",
       "      <th>9907</th>\n",
       "      <td>2021-01-14</td>\n",
       "      <td>NaT</td>\n",
       "      <td>NaT</td>\n",
       "      <td>NaT</td>\n",
       "      <td>Laboratory-confirmed case</td>\n",
       "      <td>Male</td>\n",
       "      <td>50 - 59 Years</td>\n",
       "      <td>Unknown</td>\n",
       "      <td>Unknown</td>\n",
       "      <td>Missing</td>\n",
       "      <td>No</td>\n",
       "      <td>Missing</td>\n",
       "    </tr>\n",
       "    <tr>\n",
       "      <th>9930</th>\n",
       "      <td>2020-06-22</td>\n",
       "      <td>NaT</td>\n",
       "      <td>NaT</td>\n",
       "      <td>NaT</td>\n",
       "      <td>Laboratory-confirmed case</td>\n",
       "      <td>Male</td>\n",
       "      <td>20 - 29 Years</td>\n",
       "      <td>Unknown</td>\n",
       "      <td>Unknown</td>\n",
       "      <td>Missing</td>\n",
       "      <td>No</td>\n",
       "      <td>Missing</td>\n",
       "    </tr>\n",
       "    <tr>\n",
       "      <th>9961</th>\n",
       "      <td>2020-12-28</td>\n",
       "      <td>NaT</td>\n",
       "      <td>NaT</td>\n",
       "      <td>NaT</td>\n",
       "      <td>Laboratory-confirmed case</td>\n",
       "      <td>Female</td>\n",
       "      <td>50 - 59 Years</td>\n",
       "      <td>Unknown</td>\n",
       "      <td>Unknown</td>\n",
       "      <td>Missing</td>\n",
       "      <td>No</td>\n",
       "      <td>Missing</td>\n",
       "    </tr>\n",
       "    <tr>\n",
       "      <th>9990</th>\n",
       "      <td>2020-12-10</td>\n",
       "      <td>NaT</td>\n",
       "      <td>NaT</td>\n",
       "      <td>NaT</td>\n",
       "      <td>Laboratory-confirmed case</td>\n",
       "      <td>Male</td>\n",
       "      <td>50 - 59 Years</td>\n",
       "      <td>Unknown</td>\n",
       "      <td>Unknown</td>\n",
       "      <td>Missing</td>\n",
       "      <td>No</td>\n",
       "      <td>Missing</td>\n",
       "    </tr>\n",
       "    <tr>\n",
       "      <th>9993</th>\n",
       "      <td>2020-12-02</td>\n",
       "      <td>NaT</td>\n",
       "      <td>NaT</td>\n",
       "      <td>NaT</td>\n",
       "      <td>Laboratory-confirmed case</td>\n",
       "      <td>Male</td>\n",
       "      <td>30 - 39 Years</td>\n",
       "      <td>Unknown</td>\n",
       "      <td>Unknown</td>\n",
       "      <td>Missing</td>\n",
       "      <td>No</td>\n",
       "      <td>Missing</td>\n",
       "    </tr>\n",
       "  </tbody>\n",
       "</table>\n",
       "</div>"
      ],
      "text/plain": [
       "     cdc_case_earliest_dt cdc_report_dt pos_spec_dt onset_dt  \\\n",
       "9857           2021-01-14           NaT         NaT      NaT   \n",
       "9884           2020-12-08           NaT         NaT      NaT   \n",
       "9889           2021-01-04           NaT         NaT      NaT   \n",
       "9900           2020-12-29           NaT         NaT      NaT   \n",
       "9904           2020-11-17           NaT         NaT      NaT   \n",
       "9907           2021-01-14           NaT         NaT      NaT   \n",
       "9930           2020-06-22           NaT         NaT      NaT   \n",
       "9961           2020-12-28           NaT         NaT      NaT   \n",
       "9990           2020-12-10           NaT         NaT      NaT   \n",
       "9993           2020-12-02           NaT         NaT      NaT   \n",
       "\n",
       "                 current_status     sex      age_group  \\\n",
       "9857  Laboratory-confirmed case  Female  20 - 29 Years   \n",
       "9884  Laboratory-confirmed case    Male  30 - 39 Years   \n",
       "9889  Laboratory-confirmed case    Male  20 - 29 Years   \n",
       "9900  Laboratory-confirmed case    Male  30 - 39 Years   \n",
       "9904  Laboratory-confirmed case  Female  10 - 19 Years   \n",
       "9907  Laboratory-confirmed case    Male  50 - 59 Years   \n",
       "9930  Laboratory-confirmed case    Male  20 - 29 Years   \n",
       "9961  Laboratory-confirmed case  Female  50 - 59 Years   \n",
       "9990  Laboratory-confirmed case    Male  50 - 59 Years   \n",
       "9993  Laboratory-confirmed case    Male  30 - 39 Years   \n",
       "\n",
       "     race_ethnicity_combined  hosp_yn   icu_yn death_yn medcond_yn  \n",
       "9857                 Unknown  Missing  Missing       No    Missing  \n",
       "9884                 Unknown  Missing  Missing       No    Missing  \n",
       "9889     White, Non-Hispanic  Missing  Missing       No    Missing  \n",
       "9900                 Unknown  Missing  Missing       No    Missing  \n",
       "9904                 Unknown  Missing  Missing       No    Missing  \n",
       "9907                 Unknown  Unknown  Missing       No    Missing  \n",
       "9930                 Unknown  Unknown  Missing       No    Missing  \n",
       "9961                 Unknown  Unknown  Missing       No    Missing  \n",
       "9990                 Unknown  Unknown  Missing       No    Missing  \n",
       "9993                 Unknown  Unknown  Missing       No    Missing  "
      ]
     },
     "execution_count": 21,
     "metadata": {},
     "output_type": "execute_result"
    }
   ],
   "source": [
    "df[df.duplicated(keep=False)].tail(10)"
   ]
  },
  {
   "cell_type": "markdown",
   "metadata": {},
   "source": [
    "Upon further inspection it appears that the duplicate rows are the result of Missing/Unknown/Null values for the majority of columns"
   ]
  },
  {
   "cell_type": "markdown",
   "metadata": {},
   "source": [
    "### See if the duplicate rows have any positive instances of the target feature"
   ]
  },
  {
   "cell_type": "code",
   "execution_count": 22,
   "metadata": {
    "scrolled": false
   },
   "outputs": [
    {
     "data": {
      "text/plain": [
       "0"
      ]
     },
     "execution_count": 22,
     "metadata": {},
     "output_type": "execute_result"
    }
   ],
   "source": [
    "duplicate_df = df[df.duplicated(keep=False)]\n",
    "\n",
    "(duplicate_df[\"death_yn\"] == \"Yes\").sum()"
   ]
  },
  {
   "cell_type": "markdown",
   "metadata": {},
   "source": [
    "There are no duplicate columns where the entry has died."
   ]
  },
  {
   "cell_type": "markdown",
   "metadata": {},
   "source": [
    "# Drop duplicate rows"
   ]
  },
  {
   "cell_type": "code",
   "execution_count": 23,
   "metadata": {
    "scrolled": false
   },
   "outputs": [],
   "source": [
    "df = df.drop_duplicates(keep=False)"
   ]
  },
  {
   "cell_type": "code",
   "execution_count": 24,
   "metadata": {
    "scrolled": false
   },
   "outputs": [
    {
     "name": "stdout",
     "output_type": "stream",
     "text": [
      "Remaining duplicate rows:  0\n"
     ]
    }
   ],
   "source": [
    "print(\"Remaining duplicate rows: \", df[df.duplicated(keep=False)].shape[0])"
   ]
  },
  {
   "cell_type": "markdown",
   "metadata": {},
   "source": [
    "## Check for constant columns"
   ]
  },
  {
   "cell_type": "code",
   "execution_count": 25,
   "metadata": {
    "scrolled": true
   },
   "outputs": [
    {
     "data": {
      "text/html": [
       "<div>\n",
       "<style scoped>\n",
       "    .dataframe tbody tr th:only-of-type {\n",
       "        vertical-align: middle;\n",
       "    }\n",
       "\n",
       "    .dataframe tbody tr th {\n",
       "        vertical-align: top;\n",
       "    }\n",
       "\n",
       "    .dataframe thead th {\n",
       "        text-align: right;\n",
       "    }\n",
       "</style>\n",
       "<table border=\"1\" class=\"dataframe\">\n",
       "  <thead>\n",
       "    <tr style=\"text-align: right;\">\n",
       "      <th></th>\n",
       "      <th>count</th>\n",
       "      <th>unique</th>\n",
       "      <th>top</th>\n",
       "      <th>freq</th>\n",
       "    </tr>\n",
       "  </thead>\n",
       "  <tbody>\n",
       "    <tr>\n",
       "      <th>current_status</th>\n",
       "      <td>9159</td>\n",
       "      <td>2</td>\n",
       "      <td>Laboratory-confirmed case</td>\n",
       "      <td>8519</td>\n",
       "    </tr>\n",
       "    <tr>\n",
       "      <th>sex</th>\n",
       "      <td>9159</td>\n",
       "      <td>4</td>\n",
       "      <td>Female</td>\n",
       "      <td>4669</td>\n",
       "    </tr>\n",
       "    <tr>\n",
       "      <th>age_group</th>\n",
       "      <td>9159</td>\n",
       "      <td>10</td>\n",
       "      <td>20 - 29 Years</td>\n",
       "      <td>1694</td>\n",
       "    </tr>\n",
       "    <tr>\n",
       "      <th>race_ethnicity_combined</th>\n",
       "      <td>9159</td>\n",
       "      <td>9</td>\n",
       "      <td>Unknown</td>\n",
       "      <td>3306</td>\n",
       "    </tr>\n",
       "    <tr>\n",
       "      <th>hosp_yn</th>\n",
       "      <td>9159</td>\n",
       "      <td>4</td>\n",
       "      <td>No</td>\n",
       "      <td>5011</td>\n",
       "    </tr>\n",
       "    <tr>\n",
       "      <th>icu_yn</th>\n",
       "      <td>9159</td>\n",
       "      <td>4</td>\n",
       "      <td>Missing</td>\n",
       "      <td>6887</td>\n",
       "    </tr>\n",
       "    <tr>\n",
       "      <th>death_yn</th>\n",
       "      <td>9159</td>\n",
       "      <td>2</td>\n",
       "      <td>No</td>\n",
       "      <td>8810</td>\n",
       "    </tr>\n",
       "    <tr>\n",
       "      <th>medcond_yn</th>\n",
       "      <td>9159</td>\n",
       "      <td>4</td>\n",
       "      <td>Missing</td>\n",
       "      <td>6731</td>\n",
       "    </tr>\n",
       "  </tbody>\n",
       "</table>\n",
       "</div>"
      ],
      "text/plain": [
       "                        count unique                        top  freq\n",
       "current_status           9159      2  Laboratory-confirmed case  8519\n",
       "sex                      9159      4                     Female  4669\n",
       "age_group                9159     10              20 - 29 Years  1694\n",
       "race_ethnicity_combined  9159      9                    Unknown  3306\n",
       "hosp_yn                  9159      4                         No  5011\n",
       "icu_yn                   9159      4                    Missing  6887\n",
       "death_yn                 9159      2                         No  8810\n",
       "medcond_yn               9159      4                    Missing  6731"
      ]
     },
     "execution_count": 25,
     "metadata": {},
     "output_type": "execute_result"
    }
   ],
   "source": [
    "df.select_dtypes([\"category\"]).describe().T"
   ]
  },
  {
   "cell_type": "markdown",
   "metadata": {},
   "source": [
    "All category data have more than 1 unique value, there are no constant columns, so their inclusion going forward is appropriate"
   ]
  },
  {
   "cell_type": "markdown",
   "metadata": {},
   "source": [
    "## Descriptive Statistics for Continuous Features"
   ]
  },
  {
   "cell_type": "markdown",
   "metadata": {},
   "source": [
    "### Show range and the 50 most common entries for Continuous features"
   ]
  },
  {
   "cell_type": "code",
   "execution_count": 26,
   "metadata": {},
   "outputs": [
    {
     "name": "stdout",
     "output_type": "stream",
     "text": [
      "\u001b[1m********************\n",
      "\n",
      "cdc_case_earliest_dt\n",
      "-------------------------\n",
      "\u001b[0m\n",
      "Date range for cdc_case_earliest_dt is:  381 days 00:00:00\n",
      "-------------------------\n",
      "Date \t   Number of Cases \n",
      "\n",
      "2021-01-05    91\n",
      "2021-01-11    88\n",
      "2021-01-04    87\n",
      "2020-12-07    85\n",
      "2020-12-18    84\n",
      "2020-12-21    81\n",
      "2020-12-17    80\n",
      "2021-01-06    80\n",
      "2020-12-28    79\n",
      "2020-12-01    79\n",
      "2020-12-08    79\n",
      "2020-12-30    79\n",
      "2020-12-29    79\n",
      "2020-12-09    75\n",
      "2020-12-22    75\n",
      "2020-11-30    71\n",
      "2020-12-10    71\n",
      "2020-11-17    69\n",
      "2020-12-02    69\n",
      "2020-11-10    69\n",
      "2020-12-14    69\n",
      "2020-12-23    68\n",
      "2020-12-11    66\n",
      "2020-12-15    66\n",
      "2021-01-08    65\n",
      "2020-11-25    65\n",
      "2020-11-16    64\n",
      "2020-11-23    64\n",
      "2020-12-12    64\n",
      "2021-01-12    64\n",
      "2020-11-18    62\n",
      "2020-11-28    62\n",
      "2020-12-04    62\n",
      "2021-01-13    62\n",
      "2020-12-31    62\n",
      "2020-11-09    61\n",
      "2020-12-16    60\n",
      "2021-01-15    60\n",
      "2020-12-03    59\n",
      "2020-12-24    59\n",
      "2021-01-09    58\n",
      "2020-12-06    58\n",
      "2020-12-26    58\n",
      "2020-11-06    57\n",
      "2021-01-07    56\n",
      "2020-11-20    56\n",
      "2020-12-27    56\n",
      "2020-12-19    54\n",
      "2020-11-19    53\n",
      "2020-11-27    53\n",
      "Name: cdc_case_earliest_dt, dtype: int64 \n",
      "\n",
      "\n",
      "\n",
      "Null Values:  0\n",
      "\u001b[1m********************\n",
      "\n",
      "cdc_report_dt\n",
      "-------------------------\n",
      "\u001b[0m\n",
      "Date range for cdc_report_dt is:  327 days 00:00:00\n",
      "-------------------------\n",
      "Date \t   Number of Cases \n",
      "\n",
      "2020-06-10    144\n",
      "2020-12-29     89\n",
      "2021-01-27     78\n",
      "2020-11-25     76\n",
      "2020-12-14     70\n",
      "2021-01-08     70\n",
      "2021-01-19     69\n",
      "2020-12-01     66\n",
      "2021-01-26     66\n",
      "2020-12-17     66\n",
      "2021-01-16     62\n",
      "2021-01-21     62\n",
      "2020-12-07     61\n",
      "2020-11-10     61\n",
      "2021-01-23     61\n",
      "2021-01-12     61\n",
      "2020-12-18     60\n",
      "2021-01-14     60\n",
      "2021-01-22     59\n",
      "2021-01-06     59\n",
      "2021-01-04     58\n",
      "2020-11-17     57\n",
      "2020-12-30     57\n",
      "2021-01-15     57\n",
      "2020-12-22     56\n",
      "2020-12-28     55\n",
      "2020-12-08     54\n",
      "2020-12-03     53\n",
      "2020-12-31     53\n",
      "2020-12-02     52\n",
      "2021-01-11     52\n",
      "2020-12-10     52\n",
      "2020-12-21     51\n",
      "2020-11-28     50\n",
      "2020-12-09     50\n",
      "2020-12-06     50\n",
      "2020-11-09     50\n",
      "2020-11-23     49\n",
      "2020-11-24     48\n",
      "2020-11-16     48\n",
      "2020-11-04     48\n",
      "2021-01-07     48\n",
      "2020-11-12     48\n",
      "2020-11-30     47\n",
      "2021-01-13     46\n",
      "2020-12-04     46\n",
      "2020-11-13     46\n",
      "2021-01-20     45\n",
      "2020-11-20     44\n",
      "2020-12-15     44\n",
      "Name: cdc_report_dt, dtype: int64 \n",
      "\n",
      "\n",
      "\n",
      "Null Values:  1685\n",
      "\u001b[1m********************\n",
      "\n",
      "pos_spec_dt\n",
      "-------------------------\n",
      "\u001b[0m\n",
      "Date range for pos_spec_dt is:  315 days 00:00:00\n",
      "-------------------------\n",
      "Date \t   Number of Cases \n",
      "\n",
      "2021-01-04    34\n",
      "2021-01-11    30\n",
      "2020-12-28    28\n",
      "2020-11-16    25\n",
      "2020-12-30    25\n",
      "2020-12-11    25\n",
      "2020-12-03    25\n",
      "2020-11-02    24\n",
      "2020-11-13    24\n",
      "2020-11-30    23\n",
      "2020-11-05    22\n",
      "2021-01-12    22\n",
      "2020-12-01    22\n",
      "2020-12-14    22\n",
      "2020-11-09    22\n",
      "2020-12-29    22\n",
      "2020-11-20    21\n",
      "2020-11-23    21\n",
      "2020-11-04    21\n",
      "2020-04-27    20\n",
      "2020-11-17    20\n",
      "2020-12-31    20\n",
      "2020-11-24    20\n",
      "2020-12-08    20\n",
      "2020-11-19    20\n",
      "2020-12-10    20\n",
      "2020-12-02    19\n",
      "2020-12-17    18\n",
      "2021-01-06    18\n",
      "2020-11-11    18\n",
      "2020-11-06    18\n",
      "2020-11-18    18\n",
      "2020-12-09    17\n",
      "2021-01-05    17\n",
      "2021-01-13    17\n",
      "2020-12-21    17\n",
      "2020-07-06    17\n",
      "2020-12-07    17\n",
      "2021-01-07    16\n",
      "2020-10-21    16\n",
      "2020-11-10    16\n",
      "2020-08-17    16\n",
      "2020-12-18    16\n",
      "2020-12-15    15\n",
      "2020-10-30    15\n",
      "2020-12-19    15\n",
      "2020-11-12    15\n",
      "2021-01-08    15\n",
      "2020-07-31    15\n",
      "2020-12-24    15\n",
      "Name: pos_spec_dt, dtype: int64 \n",
      "\n",
      "\n",
      "\n",
      "Null Values:  6420\n",
      "\u001b[1m********************\n",
      "\n",
      "onset_dt\n",
      "-------------------------\n",
      "\u001b[0m\n",
      "Date range for onset_dt is:  393 days 00:00:00\n",
      "-------------------------\n",
      "Date \t   Number of Cases \n",
      "\n",
      "2020-12-08    45\n",
      "2020-12-01    44\n",
      "2020-11-10    43\n",
      "2020-12-07    40\n",
      "2020-11-09    39\n",
      "2020-11-16    37\n",
      "2020-11-07    37\n",
      "2020-11-23    37\n",
      "2020-12-09    36\n",
      "2020-11-18    35\n",
      "2020-12-27    35\n",
      "2020-12-13    35\n",
      "2021-01-04    35\n",
      "2020-12-28    35\n",
      "2020-12-06    34\n",
      "2020-11-17    34\n",
      "2020-11-28    34\n",
      "2020-11-30    33\n",
      "2020-12-26    33\n",
      "2020-12-10    33\n",
      "2020-11-03    33\n",
      "2020-11-02    32\n",
      "2021-01-11    32\n",
      "2020-11-06    32\n",
      "2020-11-27    32\n",
      "2020-12-18    31\n",
      "2020-10-26    31\n",
      "2021-01-01    30\n",
      "2020-12-21    30\n",
      "2020-11-04    30\n",
      "2020-12-02    30\n",
      "2020-12-04    30\n",
      "2020-12-29    30\n",
      "2020-11-13    29\n",
      "2020-12-22    29\n",
      "2020-11-01    29\n",
      "2020-12-19    29\n",
      "2020-11-21    29\n",
      "2020-11-25    29\n",
      "2020-11-12    29\n",
      "2020-12-23    29\n",
      "2020-10-20    28\n",
      "2020-12-14    28\n",
      "2021-01-05    28\n",
      "2020-11-19    28\n",
      "2020-10-30    28\n",
      "2020-12-16    27\n",
      "2020-12-12    27\n",
      "2020-11-22    27\n",
      "2020-12-11    27\n",
      "Name: onset_dt, dtype: int64 \n",
      "\n",
      "\n",
      "\n",
      "Null Values:  4191\n"
     ]
    }
   ],
   "source": [
    "for i in continuous_columns:\n",
    "    print(\"\\033[1m\"+\"********************\\n\")\n",
    "    print(i)\n",
    "    print(\"-------------------------\\n\" + \"\\033[0m\")\n",
    "    print(\"Date range for {} is: \".format(i), (df[i].max() - df[i].min()))\n",
    "    print(\"-------------------------\")\n",
    "    print(\"Date\", \"\\t   Number of Cases \\n\")\n",
    "    print(df[i].value_counts().nlargest(50), \"\\n\\n\\n\")\n",
    "    print(\"Null Values: \",df[i].isna().sum())"
   ]
  },
  {
   "cell_type": "markdown",
   "metadata": {},
   "source": [
    "## Histograms for continous features"
   ]
  },
  {
   "cell_type": "code",
   "execution_count": 27,
   "metadata": {
    "scrolled": false
   },
   "outputs": [
    {
     "data": {
      "image/png": "[encoded data removed]",
      "text/plain": [
       "<Figure size 864x720 with 1 Axes>"
      ]
     },
     "metadata": {
      "needs_background": "light"
     },
     "output_type": "display_data"
    },
    {
     "data": {
      "image/png": "[encoded data removed]",
      "text/plain": [
       "<Figure size 864x720 with 1 Axes>"
      ]
     },
     "metadata": {
      "needs_background": "light"
     },
     "output_type": "display_data"
    },
    {
     "data": {
      "image/png": "[encoded data removed]",
      "text/plain": [
       "<Figure size 864x720 with 1 Axes>"
      ]
     },
     "metadata": {
      "needs_background": "light"
     },
     "output_type": "display_data"
    },
    {
     "data": {
      "image/png": "[encoded data removed]",
      "text/plain": [
       "<Figure size 864x720 with 1 Axes>"
      ]
     },
     "metadata": {
      "needs_background": "light"
     },
     "output_type": "display_data"
    }
   ],
   "source": [
    "\n",
    "for i in continuous_columns:\n",
    "    p = df[i].value_counts().plot(kind=\"bar\" , figsize=(12,10))\n",
    "    plt.title(i)\n",
    "    plt.ylabel(\"Number of Cases\")\n",
    "    date_range=str(df[i].min().date()) + \"  to  \" + str(df[i].max().date())\n",
    "    plt.xlabel(date_range)\n",
    "    plt.xticks([])\n",
    "    plt.savefig(\"continuous_histogram_\"+i+\".pdf\")\n",
    "    plt.show()"
   ]
  },
  {
   "cell_type": "markdown",
   "metadata": {},
   "source": [
    "### Boxplots for Continous features/frequency"
   ]
  },
  {
   "cell_type": "code",
   "execution_count": 28,
   "metadata": {
    "scrolled": false
   },
   "outputs": [
    {
     "data": {
      "image/png": "[encoded data removed]",
      "text/plain": [
       "<Figure size 2160x2160 with 24 Axes>"
      ]
     },
     "metadata": {
      "needs_background": "light"
     },
     "output_type": "display_data"
    },
    {
     "data": {
      "image/png": "[encoded data removed]",
      "text/plain": [
       "<Figure size 2160x2160 with 24 Axes>"
      ]
     },
     "metadata": {
      "needs_background": "light"
     },
     "output_type": "display_data"
    },
    {
     "data": {
      "image/png": "[encoded data removed]",
      "text/plain": [
       "<Figure size 2160x2160 with 24 Axes>"
      ]
     },
     "metadata": {
      "needs_background": "light"
     },
     "output_type": "display_data"
    },
    {
     "data": {
      "image/png": "[encoded data removed]",
      "text/plain": [
       "<Figure size 2160x2160 with 24 Axes>"
      ]
     },
     "metadata": {
      "needs_background": "light"
     },
     "output_type": "display_data"
    }
   ],
   "source": [
    "for i in continuous_columns:\n",
    "    df[i].value_counts().plot(kind='box', subplots=True, figsize=(30,30), layout=(6,4), sharex=False, sharey=False)\n",
    "    plt.savefig(\"continous_boxplot_frequency_\"+i+\".pdf\")\n",
    "    plt.show()\n"
   ]
  },
  {
   "cell_type": "markdown",
   "metadata": {},
   "source": [
    "## Prepare a table with descriptive statistics for all the categorical features"
   ]
  },
  {
   "cell_type": "code",
   "execution_count": 29,
   "metadata": {
    "scrolled": false
   },
   "outputs": [],
   "source": [
    "categorical_columns = df.select_dtypes([\"category\"]).columns\n",
    "cat_feat_to_save = df[categorical_columns].describe().T"
   ]
  },
  {
   "cell_type": "markdown",
   "metadata": {},
   "source": [
    "## Create Barcharts for all categorical features"
   ]
  },
  {
   "cell_type": "code",
   "execution_count": 30,
   "metadata": {
    "scrolled": false
   },
   "outputs": [
    {
     "data": {
      "image/png": "[encoded data removed]",
      "text/plain": [
       "<Figure size 864x720 with 1 Axes>"
      ]
     },
     "metadata": {
      "needs_background": "light"
     },
     "output_type": "display_data"
    },
    {
     "data": {
      "image/png": "[encoded data removed]",
      "text/plain": [
       "<Figure size 864x720 with 1 Axes>"
      ]
     },
     "metadata": {
      "needs_background": "light"
     },
     "output_type": "display_data"
    },
    {
     "data": {
      "image/png": "[encoded data removed]",
      "text/plain": [
       "<Figure size 864x720 with 1 Axes>"
      ]
     },
     "metadata": {
      "needs_background": "light"
     },
     "output_type": "display_data"
    },
    {
     "data": {
      "image/png": "[encoded data removed]",
      "text/plain": [
       "<Figure size 864x720 with 1 Axes>"
      ]
     },
     "metadata": {
      "needs_background": "light"
     },
     "output_type": "display_data"
    },
    {
     "data": {
      "image/png": "[encoded data removed]",
      "text/plain": [
       "<Figure size 864x720 with 1 Axes>"
      ]
     },
     "metadata": {
      "needs_background": "light"
     },
     "output_type": "display_data"
    },
    {
     "data": {
      "image/png": "[encoded data removed]",
      "text/plain": [
       "<Figure size 864x720 with 1 Axes>"
      ]
     },
     "metadata": {
      "needs_background": "light"
     },
     "output_type": "display_data"
    },
    {
     "data": {
      "image/png": "[encoded data removed]",
      "text/plain": [
       "<Figure size 864x720 with 1 Axes>"
      ]
     },
     "metadata": {
      "needs_background": "light"
     },
     "output_type": "display_data"
    },
    {
     "data": {
      "image/png": "[encoded data removed]",
      "text/plain": [
       "<Figure size 864x720 with 1 Axes>"
      ]
     },
     "metadata": {
      "needs_background": "light"
     },
     "output_type": "display_data"
    }
   ],
   "source": [
    "for i in categorical_columns:\n",
    "    p = df[i].value_counts().plot(kind=\"bar\" , figsize=(12,10))\n",
    "    plt.title(i)\n",
    "    plt.ylabel(\"Number of Cases\")\n",
    "    plt.savefig(\"categorical_barchart_\"+i+\".pdf\")\n",
    "    plt.show()"
   ]
  },
  {
   "cell_type": "markdown",
   "metadata": {},
   "source": [
    "## Issues found from the barcharts\n",
    "- Missing value for sex\n",
    "- Missing values for age\n",
    "- Missing value for medcondition\n",
    "- Unknown most common value for race/ethnicity\n"
   ]
  },
  {
   "cell_type": "markdown",
   "metadata": {},
   "source": [
    "### Find the sum of the problematic entries"
   ]
  },
  {
   "cell_type": "code",
   "execution_count": 31,
   "metadata": {
    "scrolled": false
   },
   "outputs": [
    {
     "data": {
      "text/plain": [
       "6"
      ]
     },
     "execution_count": 31,
     "metadata": {},
     "output_type": "execute_result"
    }
   ],
   "source": [
    "# Sum of entries where value of sex feature is Missing\n",
    "(df[\"sex\"] == \"Missing\").sum()"
   ]
  },
  {
   "cell_type": "code",
   "execution_count": 32,
   "metadata": {
    "scrolled": true
   },
   "outputs": [
    {
     "data": {
      "text/plain": [
       "1504"
      ]
     },
     "execution_count": 32,
     "metadata": {},
     "output_type": "execute_result"
    }
   ],
   "source": [
    "# Sum of entries where value of hosp_yn feature is Unknown\n",
    "(df[\"hosp_yn\"]==\"Unknown\").sum()"
   ]
  },
  {
   "cell_type": "code",
   "execution_count": 33,
   "metadata": {
    "scrolled": true
   },
   "outputs": [
    {
     "data": {
      "text/plain": [
       "1202"
      ]
     },
     "execution_count": 33,
     "metadata": {},
     "output_type": "execute_result"
    }
   ],
   "source": [
    "# Sum of entries where value of icu_yn feature is Unknown\n",
    "(df[\"icu_yn\"]==\"Unknown\").sum()"
   ]
  },
  {
   "cell_type": "code",
   "execution_count": 34,
   "metadata": {
    "scrolled": true
   },
   "outputs": [
    {
     "data": {
      "text/plain": [
       "710"
      ]
     },
     "execution_count": 34,
     "metadata": {},
     "output_type": "execute_result"
    }
   ],
   "source": [
    "# Sum of entries where value of icu_yn feature is Unknown and hosp_yn isnt unknown\n",
    "((df[\"icu_yn\"] == \"Unknown\") & (df[\"hosp_yn\"] != \"Unknown\")).sum()"
   ]
  },
  {
   "cell_type": "code",
   "execution_count": 35,
   "metadata": {
    "scrolled": true
   },
   "outputs": [
    {
     "data": {
      "text/plain": [
       "1012"
      ]
     },
     "execution_count": 35,
     "metadata": {},
     "output_type": "execute_result"
    }
   ],
   "source": [
    "# Sum of entries where value of icu_yn feature isnt Unknown and hosp_yn is unknown\n",
    "((df[\"icu_yn\"] != \"Unknown\") & (df[\"hosp_yn\"] == \"Unknown\")).sum()"
   ]
  },
  {
   "cell_type": "markdown",
   "metadata": {},
   "source": [
    "## Logical consistency\n",
    "\n",
    "Sum the rows where icu status is yes but hosp status is missing or unknown"
   ]
  },
  {
   "cell_type": "code",
   "execution_count": 36,
   "metadata": {
    "scrolled": false
   },
   "outputs": [
    {
     "data": {
      "text/plain": [
       "0"
      ]
     },
     "execution_count": 36,
     "metadata": {},
     "output_type": "execute_result"
    }
   ],
   "source": [
    "((df[\"icu_yn\"] == \"Yes\") & (df[\"hosp_yn\"] == \"Missing\")).sum()\n",
    "\n"
   ]
  },
  {
   "cell_type": "code",
   "execution_count": 37,
   "metadata": {
    "scrolled": false
   },
   "outputs": [
    {
     "data": {
      "text/plain": [
       "0"
      ]
     },
     "execution_count": 37,
     "metadata": {},
     "output_type": "execute_result"
    }
   ],
   "source": [
    "((df[\"icu_yn\"] == \"Yes\") & (df[\"hosp_yn\"] == \"Unknown\")).sum()"
   ]
  },
  {
   "cell_type": "markdown",
   "metadata": {},
   "source": [
    "No rows found with positive icu status and unknown/missing hosp status. This allows us to infer that the missingvalues for hospital admission are the equivalent of a NULL value, as cases cannot be in the ICU without first going to the hospital."
   ]
  },
  {
   "cell_type": "code",
   "execution_count": 38,
   "metadata": {
    "scrolled": true
   },
   "outputs": [
    {
     "data": {
      "text/plain": [
       "492"
      ]
     },
     "execution_count": 38,
     "metadata": {},
     "output_type": "execute_result"
    }
   ],
   "source": [
    "((df[\"icu_yn\"] == \"Unknown\") & (df[\"hosp_yn\"] == \"Unknown\")).sum()"
   ]
  },
  {
   "cell_type": "code",
   "execution_count": 39,
   "metadata": {
    "scrolled": false
   },
   "outputs": [
    {
     "data": {
      "text/plain": [
       "301"
      ]
     },
     "execution_count": 39,
     "metadata": {},
     "output_type": "execute_result"
    }
   ],
   "source": [
    "((df[\"icu_yn\"] == \"Missing\") & (df[\"hosp_yn\"] == \"Yes\")).sum()"
   ]
  },
  {
   "cell_type": "code",
   "execution_count": 40,
   "metadata": {
    "scrolled": true
   },
   "outputs": [
    {
     "data": {
      "text/plain": [
       "3613"
      ]
     },
     "execution_count": 40,
     "metadata": {},
     "output_type": "execute_result"
    }
   ],
   "source": [
    "((df[\"icu_yn\"] == \"Missing\") & (df[\"hosp_yn\"] == \"No\")).sum()"
   ]
  },
  {
   "cell_type": "markdown",
   "metadata": {},
   "source": [
    "Based on these values it would be safe to assume that Missing for the icu_yn is the equvalent to a No value.\n",
    "as Missing for icu is much greater when hosp_yn is No (where icu would also be a no)."
   ]
  },
  {
   "cell_type": "markdown",
   "metadata": {},
   "source": [
    "## Check cardinality for continuous features"
   ]
  },
  {
   "cell_type": "code",
   "execution_count": 41,
   "metadata": {
    "scrolled": false
   },
   "outputs": [
    {
     "name": "stdout",
     "output_type": "stream",
     "text": [
      "Feature                              Cardinality\n",
      "-------                              --------------- \n",
      "\n",
      "cdc_case_earliest_dt                 323\n",
      "cdc_report_dt                        325\n",
      "pos_spec_dt                          315\n",
      "onset_dt                             326\n"
     ]
    }
   ],
   "source": [
    "\n",
    "features_cardinality = list(df[continuous_columns].columns.values)\n",
    "\n",
    "print('{0:35}  {1}'.format(\"Feature\", \"Cardinality\"))\n",
    "print('{0:35}  {1}'.format(\"-------\", \"--------------- \\n\"))\n",
    "\n",
    "for i in features_cardinality:\n",
    "    print('{0:35}  {1}'.format(i, str(len(df[i].unique()))))"
   ]
  },
  {
   "cell_type": "markdown",
   "metadata": {},
   "source": [
    "### Save updates data frame to new csv file"
   ]
  },
  {
   "cell_type": "code",
   "execution_count": 42,
   "metadata": {},
   "outputs": [],
   "source": [
    "df.to_csv(\"cdc_data_cleaned_1.csv\",index=False)"
   ]
  },
  {
   "cell_type": "markdown",
   "metadata": {},
   "source": [
    "### Save descriptive stats for continious features to csv file"
   ]
  },
  {
   "cell_type": "code",
   "execution_count": 43,
   "metadata": {
    "scrolled": false
   },
   "outputs": [],
   "source": [
    "cont_feat_to_save = df[continuous_columns].describe().T\n",
    "cont_feat_to_save.to_csv(\"continousFeatureDescription1.csv\")"
   ]
  },
  {
   "cell_type": "markdown",
   "metadata": {},
   "source": [
    "### Save descriptive stats for categorical features to csv file"
   ]
  },
  {
   "cell_type": "code",
   "execution_count": 44,
   "metadata": {},
   "outputs": [],
   "source": [
    "cat_feat_to_save.to_csv(\"categoricalFeatureDescription.csv\")"
   ]
  },
  {
   "cell_type": "markdown",
   "metadata": {},
   "source": [
    "## Initial findings"
   ]
  },
  {
   "cell_type": "markdown",
   "metadata": {},
   "source": [
    "# Data Quality plan"
   ]
  },
  {
   "cell_type": "markdown",
   "metadata": {},
   "source": [
    "## The initial issues identified within the data\n",
    "- Duplicate rows, these have been dropped as they contain mostly missing or unknown data and have no positive instances of the target\n",
    "- Missing and unknown values in sex\n",
    "- Missing ICU data\n",
    "- Race and ethniciy column, Nearly 50% of the data is missing or unknown\n",
    "- Missing data in age_group\n",
    "- Missing and unknown data in medcond\n",
    "- Unknown hospital values\n",
    "- Unknown ICU values\n",
    "\n",
    "\n",
    "\n",
    "## Proposed Solutions\n",
    "\n",
    "1. *Duplicate rows*\n",
    "* As stated before these have been dropped\n",
    "\n",
    "2. *Missing and unknown Sex*\n",
    " * As these rows make up a very small percentage of the overall data these can be safely dropped with little to no impact. There is no predictive value on the target as Unknown and Missing are errors within the data collection (e.g There is little value is showing the percentage of death among the Unknown sex as that doesnt exist)\n",
    "\n",
    "3. *Missing ICU data*\n",
    " * Based on the included form (pui-form.pdf) it can be safe to assume that missing in this instance means that the appropriate areas on the form were not completed. This can then be taken to defaulting to No as a result of user error (Leaving it blank rather then marking no). Conversion to No is then appropriate\n",
    "\n",
    "4. *Race and ethnicity Column*\n",
    " * as Unknown or Missing makes up nearly half of the data for this column there is little predictive value from using this column. It should therefor be dropped from the dataset.\n",
    " \n",
    " * This was chosen over conversion as there is no accurate way to infer the correct value from the other data present (unlike ICU and Hospital in which there is a clear connection).\n",
    " \n",
    " * As the Missing and unknown data makes up nearly half it would be unsound to leave the column in the dataset \n",
    "\n",
    "5. *Missing age_group*\n",
    "* As these rows make up a very small percentage of the overall data these can be safely dropped with little to no impact\n",
    "\n",
    "* Again there would be no use in leaving the data in as a predictor of the target as Missing is a data error and not a valid category\n",
    "\n",
    "* There is also no other column with which to infer the correct age_group so conversion would not be appropriate either\n",
    "\n",
    "6. *Missing and unknown data in medcond*\n",
    " * Rows with the \"Unknown\" value should be dropped from the table as they provide no predictive value with regards to the target feature.\n",
    " \n",
    "* Based on the included form (pui-form.pdf) it can be safe to assume that missing in this instance means that the appropriate areas on the form were not completed. Therefore it would be appropriate to convert these to \"No\"\n",
    "\n",
    "7. *\"Unknown\" value for hospital*\n",
    " * These rows provide no predictive value for the target feature and should therefore be dropped\n",
    " \n",
    " * There is also no other feature with which to infer the correct hosp_yn so conversion would not be appropriate \n",
    "\n",
    "\n",
    "8. *\"Unknown\" value for ICU*\n",
    " * These rows provide no predictive value for analysis and should therefore be dropped\n",
    " \n",
    " * There is also no other feature with which to infer the correct icu_yn so conversion would not be appropriate either\n",
    "\n"
   ]
  },
  {
   "cell_type": "markdown",
   "metadata": {},
   "source": [
    "## Missing and unknown sex values"
   ]
  },
  {
   "cell_type": "code",
   "execution_count": 45,
   "metadata": {
    "scrolled": true
   },
   "outputs": [],
   "source": [
    "# Replace Missing and unknown in the Sex feature with a dummy value \"A\"\n",
    "# This was the only way to get rid of  empty missing and unknown categories from the charts, dont know why this works. CS support centre has no idea why this works, But it does so im rolling with it\n",
    "df[\"sex\"].replace({\"Missing\":\"A\"},inplace=True)\n",
    "df[\"sex\"].replace({\"Unknown\":\"A\"},inplace=True)\n",
    "\n",
    "\n",
    "\n",
    "# include only the rows where sex does not equal the A dummy value\n",
    "df = df[df.sex != \"A\"]\n"
   ]
  },
  {
   "cell_type": "code",
   "execution_count": 46,
   "metadata": {
    "scrolled": false
   },
   "outputs": [],
   "source": [
    "#df[\"sex\"].replace({\"Missing\":\"No\"},inplace=True)\n",
    "#df[\"sex\"].replace({\"Unknown\":\"No\"},inplace=True)"
   ]
  },
  {
   "cell_type": "markdown",
   "metadata": {},
   "source": [
    "### Missing ICU data"
   ]
  },
  {
   "cell_type": "code",
   "execution_count": 47,
   "metadata": {
    "scrolled": true
   },
   "outputs": [],
   "source": [
    "#Replaces instances of \"Missing\" in icu_yn with \"No\"\n",
    "df[\"icu_yn\"].replace({\"Missing\":\"No\"},inplace=True)"
   ]
  },
  {
   "cell_type": "markdown",
   "metadata": {},
   "source": [
    "### Race and ethnicity column"
   ]
  },
  {
   "cell_type": "code",
   "execution_count": 48,
   "metadata": {
    "scrolled": true
   },
   "outputs": [],
   "source": [
    "# Drops the columns race_ethnicity_combined from the dataframe\n",
    "df.drop([\"race_ethnicity_combined\"], axis=1, inplace=True)"
   ]
  },
  {
   "cell_type": "markdown",
   "metadata": {},
   "source": [
    "### Missing age_group"
   ]
  },
  {
   "cell_type": "code",
   "execution_count": 49,
   "metadata": {
    "scrolled": true
   },
   "outputs": [],
   "source": [
    "# Change missing value in the age_group column to a dummy value \"A\", again this was the only way to prevent further issues with charts\n",
    "df[\"age_group\"].replace({\"Missing\":\"A\"},inplace=True)\n",
    "df = df[df.age_group != \"A\"]"
   ]
  },
  {
   "cell_type": "markdown",
   "metadata": {},
   "source": [
    "### Missing and Unknown data for medcond_yn"
   ]
  },
  {
   "cell_type": "code",
   "execution_count": 50,
   "metadata": {
    "scrolled": true
   },
   "outputs": [
    {
     "name": "stdout",
     "output_type": "stream",
     "text": [
      "Values to change 6638\n"
     ]
    }
   ],
   "source": [
    "print(\"Values to change\",np.sum(df[\"medcond_yn\"]==\"Missing\"))"
   ]
  },
  {
   "cell_type": "code",
   "execution_count": 51,
   "metadata": {
    "scrolled": false
   },
   "outputs": [
    {
     "name": "stdout",
     "output_type": "stream",
     "text": [
      "Rows to Delete  702\n"
     ]
    }
   ],
   "source": [
    "print(\"Rows to Delete \",np.sum(df[\"medcond_yn\"]==\"Unknown\"))"
   ]
  },
  {
   "cell_type": "code",
   "execution_count": 52,
   "metadata": {
    "scrolled": true
   },
   "outputs": [],
   "source": [
    "#remove rows with value Unknown for medcond_yn\n",
    "df = df[df.medcond_yn != \"Unknown\"]"
   ]
  },
  {
   "cell_type": "code",
   "execution_count": 53,
   "metadata": {
    "scrolled": false
   },
   "outputs": [],
   "source": [
    "#Replace values\n",
    "df[\"medcond_yn\"].replace({\"Missing\":\"No\"},inplace=True)"
   ]
  },
  {
   "cell_type": "code",
   "execution_count": 54,
   "metadata": {
    "scrolled": false
   },
   "outputs": [
    {
     "data": {
      "text/html": [
       "<div>\n",
       "<style scoped>\n",
       "    .dataframe tbody tr th:only-of-type {\n",
       "        vertical-align: middle;\n",
       "    }\n",
       "\n",
       "    .dataframe tbody tr th {\n",
       "        vertical-align: top;\n",
       "    }\n",
       "\n",
       "    .dataframe thead th {\n",
       "        text-align: right;\n",
       "    }\n",
       "</style>\n",
       "<table border=\"1\" class=\"dataframe\">\n",
       "  <thead>\n",
       "    <tr style=\"text-align: right;\">\n",
       "      <th></th>\n",
       "      <th>cdc_case_earliest_dt</th>\n",
       "      <th>cdc_report_dt</th>\n",
       "      <th>pos_spec_dt</th>\n",
       "      <th>onset_dt</th>\n",
       "      <th>current_status</th>\n",
       "      <th>sex</th>\n",
       "      <th>age_group</th>\n",
       "      <th>hosp_yn</th>\n",
       "      <th>icu_yn</th>\n",
       "      <th>death_yn</th>\n",
       "      <th>medcond_yn</th>\n",
       "    </tr>\n",
       "  </thead>\n",
       "  <tbody>\n",
       "    <tr>\n",
       "      <th>0</th>\n",
       "      <td>2020-06-04</td>\n",
       "      <td>2020-06-04</td>\n",
       "      <td>2020-06-04</td>\n",
       "      <td>NaT</td>\n",
       "      <td>Laboratory-confirmed case</td>\n",
       "      <td>Female</td>\n",
       "      <td>30 - 39 Years</td>\n",
       "      <td>Unknown</td>\n",
       "      <td>Unknown</td>\n",
       "      <td>No</td>\n",
       "      <td>No</td>\n",
       "    </tr>\n",
       "    <tr>\n",
       "      <th>1</th>\n",
       "      <td>2020-10-23</td>\n",
       "      <td>2020-10-23</td>\n",
       "      <td>NaT</td>\n",
       "      <td>NaT</td>\n",
       "      <td>Laboratory-confirmed case</td>\n",
       "      <td>Female</td>\n",
       "      <td>10 - 19 Years</td>\n",
       "      <td>Missing</td>\n",
       "      <td>No</td>\n",
       "      <td>No</td>\n",
       "      <td>No</td>\n",
       "    </tr>\n",
       "    <tr>\n",
       "      <th>2</th>\n",
       "      <td>2020-07-22</td>\n",
       "      <td>2020-10-22</td>\n",
       "      <td>NaT</td>\n",
       "      <td>2020-07-22</td>\n",
       "      <td>Laboratory-confirmed case</td>\n",
       "      <td>Female</td>\n",
       "      <td>70 - 79 Years</td>\n",
       "      <td>No</td>\n",
       "      <td>No</td>\n",
       "      <td>No</td>\n",
       "      <td>No</td>\n",
       "    </tr>\n",
       "    <tr>\n",
       "      <th>3</th>\n",
       "      <td>2020-10-29</td>\n",
       "      <td>2020-11-20</td>\n",
       "      <td>NaT</td>\n",
       "      <td>2020-10-29</td>\n",
       "      <td>Laboratory-confirmed case</td>\n",
       "      <td>Male</td>\n",
       "      <td>70 - 79 Years</td>\n",
       "      <td>No</td>\n",
       "      <td>No</td>\n",
       "      <td>No</td>\n",
       "      <td>No</td>\n",
       "    </tr>\n",
       "    <tr>\n",
       "      <th>4</th>\n",
       "      <td>2021-01-01</td>\n",
       "      <td>NaT</td>\n",
       "      <td>NaT</td>\n",
       "      <td>NaT</td>\n",
       "      <td>Laboratory-confirmed case</td>\n",
       "      <td>Male</td>\n",
       "      <td>40 - 49 Years</td>\n",
       "      <td>Missing</td>\n",
       "      <td>No</td>\n",
       "      <td>No</td>\n",
       "      <td>No</td>\n",
       "    </tr>\n",
       "    <tr>\n",
       "      <th>5</th>\n",
       "      <td>2020-12-23</td>\n",
       "      <td>2020-12-23</td>\n",
       "      <td>NaT</td>\n",
       "      <td>NaT</td>\n",
       "      <td>Laboratory-confirmed case</td>\n",
       "      <td>Female</td>\n",
       "      <td>40 - 49 Years</td>\n",
       "      <td>Missing</td>\n",
       "      <td>No</td>\n",
       "      <td>No</td>\n",
       "      <td>No</td>\n",
       "    </tr>\n",
       "    <tr>\n",
       "      <th>6</th>\n",
       "      <td>2021-01-08</td>\n",
       "      <td>2021-01-08</td>\n",
       "      <td>NaT</td>\n",
       "      <td>2021-01-08</td>\n",
       "      <td>Laboratory-confirmed case</td>\n",
       "      <td>Male</td>\n",
       "      <td>30 - 39 Years</td>\n",
       "      <td>No</td>\n",
       "      <td>No</td>\n",
       "      <td>No</td>\n",
       "      <td>No</td>\n",
       "    </tr>\n",
       "    <tr>\n",
       "      <th>7</th>\n",
       "      <td>2021-01-02</td>\n",
       "      <td>2021-01-03</td>\n",
       "      <td>NaT</td>\n",
       "      <td>2021-01-03</td>\n",
       "      <td>Laboratory-confirmed case</td>\n",
       "      <td>Male</td>\n",
       "      <td>60 - 69 Years</td>\n",
       "      <td>No</td>\n",
       "      <td>No</td>\n",
       "      <td>No</td>\n",
       "      <td>No</td>\n",
       "    </tr>\n",
       "    <tr>\n",
       "      <th>8</th>\n",
       "      <td>2020-12-21</td>\n",
       "      <td>2020-12-21</td>\n",
       "      <td>NaT</td>\n",
       "      <td>NaT</td>\n",
       "      <td>Laboratory-confirmed case</td>\n",
       "      <td>Female</td>\n",
       "      <td>10 - 19 Years</td>\n",
       "      <td>Unknown</td>\n",
       "      <td>Unknown</td>\n",
       "      <td>No</td>\n",
       "      <td>No</td>\n",
       "    </tr>\n",
       "    <tr>\n",
       "      <th>9</th>\n",
       "      <td>2020-12-18</td>\n",
       "      <td>NaT</td>\n",
       "      <td>NaT</td>\n",
       "      <td>NaT</td>\n",
       "      <td>Laboratory-confirmed case</td>\n",
       "      <td>Female</td>\n",
       "      <td>0 - 9 Years</td>\n",
       "      <td>No</td>\n",
       "      <td>No</td>\n",
       "      <td>No</td>\n",
       "      <td>No</td>\n",
       "    </tr>\n",
       "  </tbody>\n",
       "</table>\n",
       "</div>"
      ],
      "text/plain": [
       "  cdc_case_earliest_dt cdc_report_dt pos_spec_dt   onset_dt  \\\n",
       "0           2020-06-04    2020-06-04  2020-06-04        NaT   \n",
       "1           2020-10-23    2020-10-23         NaT        NaT   \n",
       "2           2020-07-22    2020-10-22         NaT 2020-07-22   \n",
       "3           2020-10-29    2020-11-20         NaT 2020-10-29   \n",
       "4           2021-01-01           NaT         NaT        NaT   \n",
       "5           2020-12-23    2020-12-23         NaT        NaT   \n",
       "6           2021-01-08    2021-01-08         NaT 2021-01-08   \n",
       "7           2021-01-02    2021-01-03         NaT 2021-01-03   \n",
       "8           2020-12-21    2020-12-21         NaT        NaT   \n",
       "9           2020-12-18           NaT         NaT        NaT   \n",
       "\n",
       "              current_status     sex      age_group  hosp_yn   icu_yn  \\\n",
       "0  Laboratory-confirmed case  Female  30 - 39 Years  Unknown  Unknown   \n",
       "1  Laboratory-confirmed case  Female  10 - 19 Years  Missing       No   \n",
       "2  Laboratory-confirmed case  Female  70 - 79 Years       No       No   \n",
       "3  Laboratory-confirmed case    Male  70 - 79 Years       No       No   \n",
       "4  Laboratory-confirmed case    Male  40 - 49 Years  Missing       No   \n",
       "5  Laboratory-confirmed case  Female  40 - 49 Years  Missing       No   \n",
       "6  Laboratory-confirmed case    Male  30 - 39 Years       No       No   \n",
       "7  Laboratory-confirmed case    Male  60 - 69 Years       No       No   \n",
       "8  Laboratory-confirmed case  Female  10 - 19 Years  Unknown  Unknown   \n",
       "9  Laboratory-confirmed case  Female    0 - 9 Years       No       No   \n",
       "\n",
       "  death_yn medcond_yn  \n",
       "0       No         No  \n",
       "1       No         No  \n",
       "2       No         No  \n",
       "3       No         No  \n",
       "4       No         No  \n",
       "5       No         No  \n",
       "6       No         No  \n",
       "7       No         No  \n",
       "8       No         No  \n",
       "9       No         No  "
      ]
     },
     "execution_count": 54,
     "metadata": {},
     "output_type": "execute_result"
    }
   ],
   "source": [
    "# Give the first 10 entries a check just to make sure its all working OK\n",
    "df.head(10)\n",
    "\n",
    "# have a little cheer because my god this has gone wrong a lot"
   ]
  },
  {
   "cell_type": "markdown",
   "metadata": {},
   "source": [
    "### Unknown values for hospital"
   ]
  },
  {
   "cell_type": "code",
   "execution_count": 55,
   "metadata": {
    "scrolled": false
   },
   "outputs": [
    {
     "name": "stdout",
     "output_type": "stream",
     "text": [
      "Rows to Delete  1090\n",
      "Values to change 1935\n"
     ]
    }
   ],
   "source": [
    "print(\"Rows to Delete \",np.sum(df[\"hosp_yn\"]==\"Unknown\"))\n",
    "print(\"Values to change\",np.sum(df[\"hosp_yn\"]==\"Missing\"))"
   ]
  },
  {
   "cell_type": "code",
   "execution_count": 56,
   "metadata": {
    "scrolled": true
   },
   "outputs": [],
   "source": [
    "# Remove unknown values\n",
    "df = df[df.hosp_yn != \"Unknown\"]"
   ]
  },
  {
   "cell_type": "code",
   "execution_count": 57,
   "metadata": {
    "scrolled": false
   },
   "outputs": [],
   "source": [
    "# Change missing values\n",
    "df[\"hosp_yn\"].replace({\"Missing\":\"No\"},inplace=True)"
   ]
  },
  {
   "cell_type": "markdown",
   "metadata": {},
   "source": [
    "### Unknown values for ICU\n"
   ]
  },
  {
   "cell_type": "code",
   "execution_count": 58,
   "metadata": {
    "scrolled": false
   },
   "outputs": [
    {
     "name": "stdout",
     "output_type": "stream",
     "text": [
      "Rows to Delete  456\n"
     ]
    }
   ],
   "source": [
    "print(\"Rows to Delete \",np.sum(df[\"icu_yn\"]==\"Unknown\"))"
   ]
  },
  {
   "cell_type": "code",
   "execution_count": 59,
   "metadata": {
    "scrolled": true
   },
   "outputs": [],
   "source": [
    "df = df[df.icu_yn != \"Unknown\"]"
   ]
  },
  {
   "cell_type": "markdown",
   "metadata": {},
   "source": [
    "### Save cleaned dataframe to new csv file"
   ]
  },
  {
   "cell_type": "code",
   "execution_count": 60,
   "metadata": {},
   "outputs": [],
   "source": [
    "df.to_csv(\"cdc_data_cleaned2_afterPlan.csv\",index=False)"
   ]
  },
  {
   "cell_type": "markdown",
   "metadata": {},
   "source": [
    "# Exploring relationships between feature pairs\n",
    "\n",
    "The features I find promising for predicting the target features are:\n",
    "- Age_group\n",
    "    - Also examined with:\n",
    "    - hosp_yn\n",
    "    - icu_yn\n",
    "- hosp_yn\n",
    "- icu_yn\n",
    "- sex\n",
    "- medcond_yn"
   ]
  },
  {
   "cell_type": "code",
   "execution_count": 61,
   "metadata": {
    "scrolled": false
   },
   "outputs": [
    {
     "data": {
      "text/html": [
       "<div>\n",
       "<style scoped>\n",
       "    .dataframe tbody tr th:only-of-type {\n",
       "        vertical-align: middle;\n",
       "    }\n",
       "\n",
       "    .dataframe tbody tr th {\n",
       "        vertical-align: top;\n",
       "    }\n",
       "\n",
       "    .dataframe thead th {\n",
       "        text-align: right;\n",
       "    }\n",
       "</style>\n",
       "<table border=\"1\" class=\"dataframe\">\n",
       "  <thead>\n",
       "    <tr style=\"text-align: right;\">\n",
       "      <th></th>\n",
       "      <th>death_yn</th>\n",
       "    </tr>\n",
       "  </thead>\n",
       "  <tbody>\n",
       "    <tr>\n",
       "      <th>No</th>\n",
       "      <td>0.963746</td>\n",
       "    </tr>\n",
       "    <tr>\n",
       "      <th>Yes</th>\n",
       "      <td>0.036254</td>\n",
       "    </tr>\n",
       "  </tbody>\n",
       "</table>\n",
       "</div>"
      ],
      "text/plain": [
       "     death_yn\n",
       "No   0.963746\n",
       "Yes  0.036254"
      ]
     },
     "execution_count": 61,
     "metadata": {},
     "output_type": "execute_result"
    }
   ],
   "source": [
    "pd.DataFrame(df.death_yn.value_counts(normalize=True))"
   ]
  },
  {
   "cell_type": "code",
   "execution_count": 62,
   "metadata": {
    "scrolled": false
   },
   "outputs": [
    {
     "data": {
      "image/png": "[encoded data removed]",
      "text/plain": [
       "<Figure size 1080x720 with 1 Axes>"
      ]
     },
     "metadata": {
      "needs_background": "light"
     },
     "output_type": "display_data"
    }
   ],
   "source": [
    "by_age= df.groupby([\"age_group\",\"death_yn\"]).size()\n",
    "by_age.unstack().plot(kind=\"bar\",stacked = True, figsize=(15,10))\n",
    "\n",
    "plt.grid(b=True, which=\"major\",color=\"#000000\",linestyle=\"-\")\n",
    "plt.minorticks_on()\n",
    "plt.grid(b=True, which=\"minor\",color=\"#c4c4c4\",linestyle=\"-\")\n",
    "plt.rc(\"axes\", axisbelow=True)\n",
    "\n",
    "plt.savefig(\"relationship_ageGroup_death\")"
   ]
  },
  {
   "cell_type": "markdown",
   "metadata": {},
   "source": [
    "Here we can see the stacked bar plot for age groups against the target outcome death status\n",
    "\n",
    "- There is a clear indication of an increase risk of death with an increase in age\n",
    "- This indicates that an individual is at a greater risk of death due to COVID 19 if they are above the age of 30 with the greatest risk at the 80+ group\n",
    "\n",
    "This is consistant with what we already know about how covid-19 affects populations and comes as no great suprise, however it is intresting that no deaths were recorded for the agegroups under 19."
   ]
  },
  {
   "cell_type": "code",
   "execution_count": 63,
   "metadata": {},
   "outputs": [
    {
     "data": {
      "image/png": "[encoded data removed]",
      "text/plain": [
       "<Figure size 1080x720 with 1 Axes>"
      ]
     },
     "metadata": {
      "needs_background": "light"
     },
     "output_type": "display_data"
    }
   ],
   "source": [
    "by_age= df.groupby([\"age_group\",\"hosp_yn\"]).size()\n",
    "by_age\n",
    "by_age.unstack().plot(kind=\"bar\",stacked = True, figsize=(15,10))\n",
    "\n",
    "plt.grid(b=True, which=\"major\",color=\"#000000\",linestyle=\"-\")\n",
    "plt.minorticks_on()\n",
    "plt.grid(b=True, which=\"minor\",color=\"#c4c4c4\",linestyle=\"-\")\n",
    "plt.rc(\"axes\", axisbelow=True)\n",
    "\n",
    "plt.savefig(\"relationship_ageGroup_hospitalisation\")\n"
   ]
  },
  {
   "cell_type": "markdown",
   "metadata": {},
   "source": [
    "Above we can see the stacked barchart for agegroup and hospitalisation.\n",
    "- The groups with the highest proportion of hospitalisation are again over the age of 50\n",
    "- with 60-69 appearing to experience the highest rates of hospitlisation (in proportion to cases)\n",
    "\n",
    "It is intresting to note that all age groups have experienced hospitalisation (in contrast with death) which indicates that younger populations are able to fight off the virus much more successfully then older populations"
   ]
  },
  {
   "cell_type": "code",
   "execution_count": 64,
   "metadata": {},
   "outputs": [
    {
     "data": {
      "image/png": "[encoded data removed]",
      "text/plain": [
       "<Figure size 1080x720 with 1 Axes>"
      ]
     },
     "metadata": {
      "needs_background": "light"
     },
     "output_type": "display_data"
    }
   ],
   "source": [
    "by_age= df.groupby([\"age_group\",\"icu_yn\"]).size()\n",
    "by_age.unstack().plot(kind=\"bar\",stacked = True, figsize=(15,10))\n",
    "\n",
    "plt.grid(b=True, which=\"major\",color=\"#000000\",linestyle=\"-\")\n",
    "plt.minorticks_on()\n",
    "plt.grid(b=True, which=\"minor\",color=\"#c4c4c4\",linestyle=\"-\")\n",
    "plt.rc(\"axes\", axisbelow=True)\n",
    "\n",
    "plt.savefig(\"relationship_ageGroup_icuAdmission.pdf\")"
   ]
  },
  {
   "cell_type": "markdown",
   "metadata": {},
   "source": [
    "Here we have the stacked barchart for age groups and admission to ICU\n",
    "- as seen with the other analysis the trend continous with the highest proportions being in the oldists categories\n",
    "- Intrestingly the group with the highest proportion appears to be the 60-69 years\n",
    "\n",
    "A possible reason for this trend could be that patients over the age of 70 may die before they can reach the ICU or the hospital"
   ]
  },
  {
   "cell_type": "code",
   "execution_count": 65,
   "metadata": {
    "scrolled": false
   },
   "outputs": [
    {
     "data": {
      "image/png": "[encoded data removed]",
      "text/plain": [
       "<Figure size 1080x720 with 1 Axes>"
      ]
     },
     "metadata": {
      "needs_background": "light"
     },
     "output_type": "display_data"
    }
   ],
   "source": [
    "by_hospital=df.groupby([\"hosp_yn\"]).death_yn.value_counts(normalize=True)\n",
    "#by_hospital\n",
    "by_hospital_plot =by_hospital.unstack().plot(kind=\"bar\",stacked = True, figsize=(15,10), title=\"Proportional outcome of patients admitted to hospital\")\n",
    "# add x and y labels\n",
    "by_hospital_plot.set_ylabel(\"Proportion of cases\")\n",
    "by_hospital_plot.set_xlabel(\"Admitted to hospital\")\n",
    "\n",
    "# add legend labels\n",
    "by_hospital_plot.legend([\"Alive\",\"Dead\"])\n",
    "\n",
    "#add gridlines\n",
    "\n",
    "plt.grid(b=True, which=\"major\",color=\"#000000\",linestyle=\"-\")\n",
    "plt.minorticks_on()\n",
    "plt.grid(b=True, which=\"minor\",color=\"#c4c4c4\",linestyle=\"-\")\n",
    "plt.rc(\"axes\", axisbelow=True)\n",
    "plt.ylim(0,1)\n",
    "\n",
    "plt.savefig(\"relationship_hospitalAdmin_death\")"
   ]
  },
  {
   "cell_type": "markdown",
   "metadata": {},
   "source": [
    "Above is the stacked bar plot for hospital admission status against the target outcome death status\n",
    "- There is a clear indication of an increased in deaths with regards to hospital admissions\n",
    "- approx 1% of cases not admitted to the hospital resulted in death \n",
    "- approx 30% of cases admitted to the hospital resulted in death\n",
    "\n",
    "This figure is not suprising as a case that is admitted to the hospital is going to be more serious then a case that is not (correlation is not causation)."
   ]
  },
  {
   "cell_type": "code",
   "execution_count": 66,
   "metadata": {
    "scrolled": false
   },
   "outputs": [
    {
     "data": {
      "image/png": "[encoded data removed]",
      "text/plain": [
       "<Figure size 1080x720 with 1 Axes>"
      ]
     },
     "metadata": {
      "needs_background": "light"
     },
     "output_type": "display_data"
    }
   ],
   "source": [
    "by_icu = df.groupby([\"icu_yn\"]).death_yn.value_counts(normalize=True)\n",
    "by_icu\n",
    "by_icu_plot=by_icu.unstack().plot(kind=\"bar\",stacked = True, figsize=(15,10), title=\"Proportion outcome of patients admitted to ICU\")\n",
    "by_icu_plot.set_ylabel(\"Proportion of cases\")\n",
    "by_icu_plot.set_xlabel(\"Admitted to ICU\")\n",
    "by_icu_plot.legend([\"Alive\",\"Dead\"])\n",
    "\n",
    "\n",
    "plt.grid(b=True, which=\"major\",color=\"#000000\",linestyle=\"-\")\n",
    "plt.minorticks_on()\n",
    "plt.grid(b=True, which=\"minor\",color=\"#c4c4c4\",linestyle=\"-\")\n",
    "plt.rc(\"axes\", axisbelow=True)\n",
    "plt.ylim(0,1)\n",
    "\n",
    "plt.savefig(\"relationship_icu_death\")"
   ]
  },
  {
   "cell_type": "markdown",
   "metadata": {},
   "source": [
    "Here we see the stacked barchart for ICU admissions and Death\n",
    "\n",
    "- Again there is a much higher proportion of deaths in cases that are admitted to the ICU\n",
    "\n",
    "This is consistant with the hospital findings as a case that is admitted to the ICU is going to be more serious then a case not. However the proportion is suprising with the majority of ICU cases resulting in death. This indicates that once the virus has become this serious the patient outlook is not good"
   ]
  },
  {
   "cell_type": "code",
   "execution_count": 67,
   "metadata": {
    "scrolled": true
   },
   "outputs": [
    {
     "data": {
      "image/png": "[encoded data removed]",
      "text/plain": [
       "<Figure size 1080x720 with 1 Axes>"
      ]
     },
     "metadata": {
      "needs_background": "light"
     },
     "output_type": "display_data"
    }
   ],
   "source": [
    "by_sex= df.groupby([\"sex\"]).death_yn.value_counts(normalize=True)\n",
    "\n",
    "by_sex_plot=by_sex.unstack().plot(kind=\"bar\",stacked = True, figsize=(15,10), title=\"Proportion of Covid deaths by Sex\")\n",
    "\n",
    "\n",
    "by_sex_plot.set_ylabel(\"Proportion of cases\")\n",
    "by_sex_plot.set_xlabel(\"Sex\")\n",
    "\n",
    "by_sex_plot.legend([\"Alive\",\"Dead\"])\n",
    "\n",
    "by_sex_plot.set_ylim([0,1])\n",
    "\n",
    "plt.grid(b=True, which=\"major\",color=\"#000000\",linestyle=\"-\")\n",
    "plt.minorticks_on()\n",
    "plt.grid(b=True, which=\"minor\",color=\"#c4c4c4\",linestyle=\"-\")\n",
    "plt.rc(\"axes\", axisbelow=True)\n",
    "plt.xlabel(\"Sex\")\n",
    "plt.ylabel(\"Deaths\")\n",
    "plt.ylim(0,1)\n",
    "\n",
    "plt.savefig(\"relationship_sex_death\")"
   ]
  },
  {
   "cell_type": "markdown",
   "metadata": {},
   "source": [
    "Here we see the stacked barchart of sex and death.\n",
    "\n",
    "- while there is a greater proportion of male deaths to female is it not hugely significant\n",
    "\n",
    "These discrepencies could be caused by random chance."
   ]
  },
  {
   "cell_type": "code",
   "execution_count": 68,
   "metadata": {
    "scrolled": false
   },
   "outputs": [
    {
     "data": {
      "image/png": "[encoded data removed]",
      "text/plain": [
       "<Figure size 1080x720 with 1 Axes>"
      ]
     },
     "metadata": {
      "needs_background": "light"
     },
     "output_type": "display_data"
    }
   ],
   "source": [
    "\n",
    "by_medcon= df.groupby([\"medcond_yn\"]).death_yn.value_counts(normalize=True)\n",
    "\n",
    "by_medcon_plot=by_medcon.unstack().plot(kind=\"bar\",stacked = True, figsize=(15,10), title=\"Proportion of Covid deaths by Medical Condition\")\n",
    "\n",
    "by_medcon_plot.set_ylabel(\"Proportion of cases\")\n",
    "by_medcon_plot.set_xlabel(\"Medical Condition\")\n",
    "\n",
    "by_medcon_plot.legend([\"Alive\",\"Dead\"])\n",
    "\n",
    "plt.grid(b=True, which=\"major\",color=\"#000000\",linestyle=\"-\")\n",
    "plt.minorticks_on()\n",
    "plt.grid(b=True, which=\"minor\",color=\"#c4c4c4\",linestyle=\"-\")\n",
    "plt.rc(\"axes\", axisbelow=True)\n",
    "plt.ylim(0,1)\n",
    "\n",
    "plt.savefig(\"relationship_medcond_death\")\n"
   ]
  },
  {
   "cell_type": "markdown",
   "metadata": {},
   "source": [
    "Here we see the stacked barchart for covid deaths and pre-existing medical conditions\n",
    "\n",
    "- as shown the proportion of deaths in the group with conditions is much higher\n",
    "\n",
    "This again is not suprising as government and healthcare agencies advice is those with pre existing conditions are much more suseptible to the virus. For future research is would be intresting to see how the type of condition affects outcome (e.g respitory etc etc)"
   ]
  },
  {
   "cell_type": "markdown",
   "metadata": {},
   "source": [
    "# Transform, extend or combine the existing features to create a few new features (at least 3)"
   ]
  },
  {
   "cell_type": "markdown",
   "metadata": {},
   "source": [
    "## New feature 1:\n",
    "spec_before_symptoms:\n",
    "- Measures (in boolean) if a postive specimen was collected before the onset of symptoms\n",
    "- Can be used to gain a better understanding of a targeted feature as an early positive identification can be a type of early warning"
   ]
  },
  {
   "cell_type": "code",
   "execution_count": 69,
   "metadata": {},
   "outputs": [
    {
     "data": {
      "text/plain": [
       "1       False\n",
       "2       False\n",
       "3       False\n",
       "4       False\n",
       "5       False\n",
       "        ...  \n",
       "9992    False\n",
       "9994    False\n",
       "9997    False\n",
       "9998    False\n",
       "9999    False\n",
       "Name: spec_before_symptoms, Length: 6813, dtype: category\n",
       "Categories (2, object): [False, True]"
      ]
     },
     "execution_count": 69,
     "metadata": {},
     "output_type": "execute_result"
    }
   ],
   "source": [
    "df[\"spec_before_symptoms\"]= ( df[\"onset_dt\"] - df[\"pos_spec_dt\"]).dt.days >0\n",
    "\n",
    "df[\"spec_before_symptoms\"].astype(\"category\")"
   ]
  },
  {
   "cell_type": "markdown",
   "metadata": {},
   "source": [
    "### Relationship between spec_before_symptoms and target feature"
   ]
  },
  {
   "cell_type": "code",
   "execution_count": 70,
   "metadata": {
    "scrolled": false
   },
   "outputs": [
    {
     "data": {
      "image/png": "[encoded data removed]",
      "text/plain": [
       "<Figure size 1080x720 with 1 Axes>"
      ]
     },
     "metadata": {
      "needs_background": "light"
     },
     "output_type": "display_data"
    }
   ],
   "source": [
    "by_spec_time =  df.groupby([\"spec_before_symptoms\"]).death_yn.value_counts(normalize=True)\n",
    "\n",
    "by_spec_time_plot=by_spec_time.unstack().plot(kind=\"bar\",stacked = True, figsize=(15,10), title=\"Proportion of covid deaths against specimen collection timing\")\n",
    "\n",
    "by_spec_time_plot.set_ylabel(\"Proportion of cases\")\n",
    "by_spec_time_plot.set_xlabel(\"Specimen collected before onset of symptoms\")\n",
    "\n",
    "by_spec_time_plot.legend([\"Alive\",\"Dead\"])\n",
    "\n",
    "plt.grid(b=True, which=\"major\",color=\"#000000\",linestyle=\"-\")\n",
    "plt.minorticks_on()\n",
    "plt.grid(b=True, which=\"minor\",color=\"#c4c4c4\",linestyle=\"-\")\n",
    "plt.rc(\"axes\", axisbelow=True)\n",
    "plt.ylim(0,1)\n",
    "\n",
    "plt.savefig(\"relationship_spectiming_death\")\n"
   ]
  },
  {
   "cell_type": "markdown",
   "metadata": {},
   "source": [
    "Here we see the stacked bar chart showing the proportion of deaths to the groups who had specimens collected before the onset of symptoms and those who didnt\n",
    "\n",
    "- Intrestingly the group who did have specimens collected before symptoms had a higher proportion of deaths\n",
    "\n",
    "This was suprising as I had assumed that those who had the virus detected before becoming symptomatic would have a better outcome as they would have been fore-warned. It could be that the True group had a higher amount of already at-risk individuals and so were given more routine testing and so caught the virus earlier"
   ]
  },
  {
   "cell_type": "code",
   "execution_count": 71,
   "metadata": {},
   "outputs": [
    {
     "data": {
      "image/png": "[encoded data removed]",
      "text/plain": [
       "<Figure size 1080x720 with 1 Axes>"
      ]
     },
     "metadata": {
      "needs_background": "light"
     },
     "output_type": "display_data"
    }
   ],
   "source": [
    "by_spec_medcon =  df.groupby([\"spec_before_symptoms\"]).medcond_yn.value_counts(normalize=True)\n",
    "\n",
    "by_spec_medcon_plot=by_spec_medcon.unstack().plot(kind=\"bar\",stacked = True, figsize=(15,10), title=\"Proportion of medical conditions against specimen collection timing\")\n",
    "\n",
    "by_spec_medcon_plot.set_ylabel(\"Proportion of cases\")\n",
    "by_spec_medcon_plot.set_xlabel(\"Specimen collected before symptoms\")\n",
    "\n",
    "\n",
    "plt.grid(b=True, which=\"major\",color=\"#000000\",linestyle=\"-\")\n",
    "plt.minorticks_on()\n",
    "plt.grid(b=True, which=\"minor\",color=\"#c4c4c4\",linestyle=\"-\")\n",
    "plt.rc(\"axes\", axisbelow=True)\n",
    "plt.ylim(0,1)\n",
    "\n",
    "plt.savefig(\"relationship_spectiming_medcon.pdf\")\n"
   ]
  },
  {
   "cell_type": "markdown",
   "metadata": {},
   "source": [
    "As suspected the discrepancy can be explained by the already at risk groups being more likely to undergo routine testing and thus have the virus detected earlier but still have a less fortunate outcome"
   ]
  },
  {
   "cell_type": "markdown",
   "metadata": {},
   "source": [
    "## New Feature 2\n",
    "month_of_onset\n",
    " - measures the month of the onset of symptoms\n",
    " - more general measure of onset_dt\n",
    " - Useful to see larger trends (e.g more deaths in the winter months)"
   ]
  },
  {
   "cell_type": "code",
   "execution_count": 72,
   "metadata": {},
   "outputs": [],
   "source": [
    "df[\"month_of_onset\"]= (df[\"onset_dt\"]).dt.month"
   ]
  },
  {
   "cell_type": "code",
   "execution_count": 73,
   "metadata": {},
   "outputs": [],
   "source": [
    "df[\"month_of_onset\"].replace({1.0:\"January\",2.0:\"February\",3.0:\"March\",4.0:\"April\",5.0:\"May\",6.0:\"June\",7.0:\"July\",8.0:\"August\",9.0:\"September\",10.0:\"October\",11.0:\"November\",12.0:\"December\"},inplace=True)"
   ]
  },
  {
   "cell_type": "markdown",
   "metadata": {},
   "source": [
    "### Relationship between Month of onset and target feature"
   ]
  },
  {
   "cell_type": "code",
   "execution_count": 74,
   "metadata": {
    "scrolled": false
   },
   "outputs": [
    {
     "data": {
      "image/png": "[encoded data removed]",
      "text/plain": [
       "<Figure size 1080x720 with 1 Axes>"
      ]
     },
     "metadata": {
      "needs_background": "light"
     },
     "output_type": "display_data"
    }
   ],
   "source": [
    "by_month= df.groupby([\"month_of_onset\",\"death_yn\"]).size()\n",
    "by_month\n",
    "by_month.unstack().plot(kind=\"bar\",stacked = True, figsize=(15,10))\n",
    "\n",
    "plt.grid(b=True, which=\"major\",color=\"#000000\",linestyle=\"-\")\n",
    "plt.minorticks_on()\n",
    "plt.grid(b=True, which=\"minor\",color=\"#c4c4c4\",linestyle=\"-\")\n",
    "plt.rc(\"axes\", axisbelow=True)\n",
    "\n",
    "plt.savefig(\"relationship_month_death\")"
   ]
  },
  {
   "cell_type": "markdown",
   "metadata": {},
   "source": [
    "Here we see the stacked barchart for month of symptom onset and the target outcome, death\n",
    "\n",
    "- There does appear to be a trend towards a higher fatality in the colder months as apposed to summer\n",
    "- However this is not a significant as I thought\n",
    "- Intrestingly the two least-lethal months are January and August, traditionally colder months\n",
    "- January being the least lethal is explainable by the virus not having widely spread across the US until March/April 2020 and so health services were less overwhelmed"
   ]
  },
  {
   "cell_type": "markdown",
   "metadata": {},
   "source": [
    "## New Feature 3\n",
    "age_approx\n",
    "- Numerical approximation of the entries age\n",
    "- Taken the median value of age_group\n",
    "- allows for treating entries age as a continuous feature\n"
   ]
  },
  {
   "cell_type": "code",
   "execution_count": 75,
   "metadata": {},
   "outputs": [],
   "source": [
    "df[\"age_approx\"]= df[\"age_group\"]\n",
    "\n",
    "df[\"age_approx\"].replace({\"0 - 9 Years\":5,\"10 - 19 Years\":15,\"20 - 29 Years\":25,\"30 - 39 Years\": 35, \"40 - 49 Years\": 45, \"50 - 59 Years\": 55, \"60 - 69 Years\": 65, \"70 - 79 Years\": 75, \"80+ Years\": 85},inplace=True)\n",
    "\n",
    "df[\"age_approx\"] = df[\"age_approx\"].astype(\"int64\")"
   ]
  },
  {
   "cell_type": "markdown",
   "metadata": {},
   "source": [
    "### Descriptive statistics for age_approx"
   ]
  },
  {
   "cell_type": "code",
   "execution_count": 76,
   "metadata": {},
   "outputs": [
    {
     "data": {
      "text/plain": [
       "count    6813.000000\n",
       "mean       41.955820\n",
       "std        20.869473\n",
       "min         5.000000\n",
       "25%        25.000000\n",
       "50%        45.000000\n",
       "75%        55.000000\n",
       "max        85.000000\n",
       "Name: age_approx, dtype: float64"
      ]
     },
     "execution_count": 76,
     "metadata": {},
     "output_type": "execute_result"
    }
   ],
   "source": [
    "df[\"age_approx\"].describe().T"
   ]
  },
  {
   "cell_type": "markdown",
   "metadata": {},
   "source": [
    "### Box and whisker plot for age_approx"
   ]
  },
  {
   "cell_type": "code",
   "execution_count": 77,
   "metadata": {
    "scrolled": true
   },
   "outputs": [
    {
     "data": {
      "image/png": "[encoded data removed]",
      "text/plain": [
       "<Figure size 432x288 with 1 Axes>"
      ]
     },
     "metadata": {
      "needs_background": "light"
     },
     "output_type": "display_data"
    }
   ],
   "source": [
    "df[\"age_approx\"].plot(kind=\"box\")\n",
    "\n",
    "plt.savefig(\"boxplot_age_numeric\")"
   ]
  },
  {
   "cell_type": "markdown",
   "metadata": {},
   "source": [
    "Intrestingly the Mean age for entries was 41 with the majority of cases falling between mid 20s and 50s. This is consistant with the population as a whole (e.g there are more 40 year olds then 80 year olds)"
   ]
  },
  {
   "cell_type": "markdown",
   "metadata": {},
   "source": [
    "## New Feature 4\n",
    "severity\n",
    "- combines hosp_yn icu_yn and death_yn into one feature\n",
    "- 0 indicates no negative outcomes (no hospital, icu or death)\n",
    "- 1 indicates symptoms\n",
    "- 2 indicates admitted to hospital\n",
    "- 3 indicates admitted to icu\n",
    "- 4 indicates death\n",
    "- Entries are given highest applicable value"
   ]
  },
  {
   "cell_type": "code",
   "execution_count": 78,
   "metadata": {},
   "outputs": [],
   "source": [
    "df[\"severity\"]=0\n",
    "\n",
    "df.loc[df.onset_dt.isna() == False, \"severity\"]=1\n",
    "df.loc[df.hosp_yn == \"Yes\", \"severity\"]=2\n",
    "df.loc[df.icu_yn == \"Yes\", \"severity\"]=3\n",
    "df.loc[df.death_yn == \"Yes\", \"severity\"]=4"
   ]
  },
  {
   "cell_type": "code",
   "execution_count": 79,
   "metadata": {},
   "outputs": [
    {
     "data": {
      "text/plain": [
       "1    3729\n",
       "0    2488\n",
       "2     317\n",
       "4     247\n",
       "3      32\n",
       "Name: severity, dtype: int64"
      ]
     },
     "execution_count": 79,
     "metadata": {},
     "output_type": "execute_result"
    }
   ],
   "source": [
    "df[\"severity\"].value_counts()"
   ]
  },
  {
   "cell_type": "markdown",
   "metadata": {},
   "source": [
    "### Relationship between age_group and severity"
   ]
  },
  {
   "cell_type": "code",
   "execution_count": 80,
   "metadata": {},
   "outputs": [
    {
     "data": {
      "image/png": "[encoded data removed]",
      "text/plain": [
       "<Figure size 1080x720 with 1 Axes>"
      ]
     },
     "metadata": {
      "needs_background": "light"
     },
     "output_type": "display_data"
    }
   ],
   "source": [
    "\n",
    "by_severity= df.groupby([\"age_group\",\"severity\"]).size()\n",
    "by_severity.unstack().plot(kind=\"bar\",stacked = True, figsize=(15,10))\n",
    "\n",
    "plt.grid(b=True, which=\"major\",color=\"#000000\",linestyle=\"-\")\n",
    "plt.minorticks_on()\n",
    "plt.grid(b=True, which=\"minor\",color=\"#c4c4c4\",linestyle=\"-\")\n",
    "plt.rc(\"axes\", axisbelow=True)\n",
    "\n",
    "plt.savefig(\"relationship_severity_age\")"
   ]
  },
  {
   "cell_type": "markdown",
   "metadata": {},
   "source": [
    "Here we can see the stacked barchart for severity and age groups.\n",
    "This allows us to gain a fuller picture of the outcome and challenges faced by each group.\n",
    "\n",
    "As shown in the other charts the most severe outcomes become more likely as the ages increase\n",
    "Intrestingly ICU admission (3 - red) did not change that substantially throughout the populations"
   ]
  },
  {
   "cell_type": "code",
   "execution_count": 81,
   "metadata": {},
   "outputs": [
    {
     "data": {
      "image/png": "[encoded data removed]",
      "text/plain": [
       "<Figure size 1080x720 with 1 Axes>"
      ]
     },
     "metadata": {
      "needs_background": "light"
     },
     "output_type": "display_data"
    }
   ],
   "source": [
    "\n",
    "by_severityMed= df.groupby([\"medcond_yn\",\"severity\"]).size()\n",
    "by_severityMed.unstack().plot(kind=\"bar\",stacked = True, figsize=(15,10))\n",
    "\n",
    "plt.grid(b=True, which=\"major\",color=\"#000000\",linestyle=\"-\")\n",
    "plt.minorticks_on()\n",
    "plt.grid(b=True, which=\"minor\",color=\"#c4c4c4\",linestyle=\"-\")\n",
    "plt.rc(\"axes\", axisbelow=True)\n",
    "\n",
    "plt.savefig(\"relationship_severity_Medcond.pdf\")"
   ]
  },
  {
   "cell_type": "markdown",
   "metadata": {},
   "source": [
    "here we can see the stacked barchart for severity and medical conditions\n",
    "As previously thought a greater proportion of those with medical conditions had a severity >0"
   ]
  },
  {
   "cell_type": "code",
   "execution_count": 82,
   "metadata": {},
   "outputs": [
    {
     "data": {
      "text/plain": [
       "cdc_case_earliest_dt    datetime64[ns]\n",
       "cdc_report_dt           datetime64[ns]\n",
       "pos_spec_dt             datetime64[ns]\n",
       "onset_dt                datetime64[ns]\n",
       "current_status                category\n",
       "sex                             object\n",
       "age_group                       object\n",
       "hosp_yn                         object\n",
       "icu_yn                          object\n",
       "death_yn                      category\n",
       "medcond_yn                      object\n",
       "spec_before_symptoms              bool\n",
       "month_of_onset                  object\n",
       "age_approx                       int64\n",
       "severity                         int64\n",
       "dtype: object"
      ]
     },
     "execution_count": 82,
     "metadata": {},
     "output_type": "execute_result"
    }
   ],
   "source": [
    "df.dtypes\n"
   ]
  },
  {
   "cell_type": "code",
   "execution_count": 83,
   "metadata": {},
   "outputs": [],
   "source": [
    "df.to_csv(\"cdc_data_cleaned3_newfeatures.csv\",index=False)"
   ]
  }
 ],
 "metadata": {
  "kernelspec": {
   "display_name": "Python 3",
   "language": "python",
   "name": "python3"
  },
  "language_info": {
   "codemirror_mode": {
    "name": "ipython",
    "version": 3
   },
   "file_extension": ".py",
   "mimetype": "text/x-python",
   "name": "python",
   "nbconvert_exporter": "python",
   "pygments_lexer": "ipython3",
   "version": "3.8.3"
  }
 },
 "nbformat": 4,
 "nbformat_minor": 4
}
